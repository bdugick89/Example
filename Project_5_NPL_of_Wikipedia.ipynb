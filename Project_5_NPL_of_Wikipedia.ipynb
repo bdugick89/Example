{
  "cells": [
    {
      "cell_type": "markdown",
      "metadata": {
        "id": "view-in-github",
        "colab_type": "text"
      },
      "source": [
        "<a href=\"https://colab.research.google.com/github/bdugick89/Data-Science-Bootcamp/blob/main/Project_5_NPL_of_Wikipedia.ipynb\" target=\"_parent\"><img src=\"https://colab.research.google.com/assets/colab-badge.svg\" alt=\"Open In Colab\"/></a>"
      ]
    },
    {
      "cell_type": "markdown",
      "metadata": {
        "id": "CxYSWPCsM0YU"
      },
      "source": [
        "# Natural Language Processing\n",
        "\n"
      ]
    },
    {
      "cell_type": "markdown",
      "metadata": {
        "id": "FGQCPUEuNezI"
      },
      "source": [
        "This project will give you practical experience using Natural Language Processing techniques. This project is in three parts:\n",
        "- in part 1) you will use a traditional dataset in a CSV file\n",
        "- in part 2) you will use the Wikipedia API to directly access content\n",
        "on Wikipedia.\n",
        "- in part 3) you will make your notebook interactive\n"
      ]
    },
    {
      "cell_type": "markdown",
      "metadata": {
        "id": "IP5iaS9lNamW"
      },
      "source": [
        "### Part 1)\n",
        "\n"
      ]
    },
    {
      "cell_type": "markdown",
      "metadata": {
        "id": "twaXGmp6OAPK"
      },
      "source": [
        "- The CSV file is available at https://ddc-datascience.s3.amazonaws.com/Projects/Project.5-NLP/Data/NLP.csv\n",
        "- The file contains a list of famous people and a brief overview.\n",
        "- The goal of part 1) is provide the capability to\n",
        "  - Take one person from the list as input and output the 10 other people who's overview are \"closest\" to the person in a Natural Language Processing sense\n",
        "  - Also output the sentiment of the overview of the person\n",
        "\n"
      ]
    },
    {
      "cell_type": "markdown",
      "metadata": {
        "id": "SyoC6PWeN9un"
      },
      "source": [
        "### Part 2)\n",
        "\n"
      ]
    },
    {
      "cell_type": "markdown",
      "metadata": {
        "id": "AJxfrb48N-v9"
      },
      "source": [
        "- For the same person from step 1), use the Wikipedia API to access the whole content of that person's Wikipedia page.\n",
        "- The goal of part 2) is to produce the capability to:\n",
        "  1. For that Wikipedia page determine the sentiment of the entire page\n",
        "  1. Print out the Wikipedia article\n",
        "  1. Collect the Wikipedia pages from the 10 nearest neighbors in Step 1)\n",
        "  1. Determine the nearness ranking of these 10 to your main subject based on their entire Wikipedia page\n",
        "  1. Compare the nearest ranking from Step 1) with the Wikipedia page nearness ranking\n",
        "\n"
      ]
    },
    {
      "cell_type": "markdown",
      "metadata": {
        "id": "xEIw9hfFObw7"
      },
      "source": [
        "### Part 3)\n"
      ]
    },
    {
      "cell_type": "markdown",
      "metadata": {
        "id": "CMlcEySPr7vA"
      },
      "source": [
        "Make an interactive notebook.\n",
        "\n",
        "In addition to presenting the project slides, at the end of the presentation each student will demonstrate their code using a famous person suggested by the other students that exists in the DBpedia set.\n"
      ]
    },
    {
      "cell_type": "markdown",
      "source": [
        "#Import libraries"
      ],
      "metadata": {
        "id": "Kf6uNiw5NerX"
      }
    },
    {
      "cell_type": "code",
      "source": [
        "import numpy as np\n",
        "import pandas as pd\n",
        "import random\n",
        "import wikipediaapi\n",
        "\n",
        "from IPython.display import clear_output\n",
        "from textblob import TextBlob\n",
        "from sklearn.feature_extraction.text import CountVectorizer\n",
        "from sklearn.feature_extraction.text import TfidfVectorizer\n",
        "from sklearn.feature_extraction.text import TfidfTransformer\n",
        "from nltk.stem import PorterStemmer, WordNetLemmatizer\n",
        "from textblob import TextBlob\n",
        "from textblob import Word\n",
        "from sklearn.linear_model import LogisticRegression\n",
        "from sklearn.model_selection import train_test_split\n",
        "from sklearn.feature_extraction.text import CountVectorizer as BagOfWords\n",
        "from sklearn.neighbors import NearestNeighbors\n",
        "from sklearn.metrics.pairwise import cosine_similarity\n",
        "import ipywidgets as widgets\n",
        "from IPython.display import display\n",
        "\n",
        "\n",
        "pd.options.display.max_columns = 100\n"
      ],
      "metadata": {
        "id": "fDeJ06mO_qCu"
      },
      "execution_count": null,
      "outputs": []
    },
    {
      "cell_type": "code",
      "source": [
        "%%capture output\n",
        "#install Wikipedia API\n",
        "!pip3 install wikipedia-api"
      ],
      "metadata": {
        "id": "kaxVwEgq_zY4"
      },
      "execution_count": null,
      "outputs": []
    },
    {
      "cell_type": "code",
      "source": [
        "%%capture\n",
        "# Download corpora\n",
        "!python -m textblob.download_corpora\n"
      ],
      "metadata": {
        "id": "NQhe9rKQ1uhk"
      },
      "execution_count": null,
      "outputs": []
    },
    {
      "cell_type": "code",
      "source": [
        "import nltk\n",
        "nltk.download('omw-1.4')\n"
      ],
      "metadata": {
        "colab": {
          "base_uri": "https://localhost:8080/"
        },
        "id": "Ba57rZNk1wgg",
        "outputId": "b850b0fb-f0c0-4f64-9645-9080ee96864b"
      },
      "execution_count": null,
      "outputs": [
        {
          "output_type": "stream",
          "name": "stderr",
          "text": [
            "[nltk_data] Downloading package omw-1.4 to /root/nltk_data...\n",
            "[nltk_data]   Package omw-1.4 is already up-to-date!\n"
          ]
        },
        {
          "output_type": "execute_result",
          "data": {
            "text/plain": [
              "True"
            ]
          },
          "metadata": {},
          "execution_count": 47
        }
      ]
    },
    {
      "cell_type": "markdown",
      "source": [
        "## Create a Path"
      ],
      "metadata": {
        "id": "k19zjzb0Niu6"
      }
    },
    {
      "cell_type": "code",
      "source": [
        "url = 'https://ddc-datascience.s3.amazonaws.com/Projects/Project.5-NLP/Data/NLP.csv'"
      ],
      "metadata": {
        "id": "O8wXXNdMCxKh"
      },
      "execution_count": null,
      "outputs": []
    },
    {
      "cell_type": "code",
      "source": [
        "train_orig = pd.read_csv(url)\n",
        "train_orig.head()"
      ],
      "metadata": {
        "colab": {
          "base_uri": "https://localhost:8080/",
          "height": 293
        },
        "id": "CYhx2T-uC4KP",
        "outputId": "84f10ac1-e731-4e2f-e58e-1a9cdef38c4a"
      },
      "execution_count": null,
      "outputs": [
        {
          "output_type": "execute_result",
          "data": {
            "text/plain": [
              "                                                 URI                 name  \\\n",
              "0        <http://dbpedia.org/resource/Digby_Morrell>        Digby Morrell   \n",
              "1       <http://dbpedia.org/resource/Alfred_J._Lewy>       Alfred J. Lewy   \n",
              "2        <http://dbpedia.org/resource/Harpdog_Brown>        Harpdog Brown   \n",
              "3  <http://dbpedia.org/resource/Franz_Rottensteiner>  Franz Rottensteiner   \n",
              "4               <http://dbpedia.org/resource/G-Enka>               G-Enka   \n",
              "\n",
              "                                                text  \n",
              "0  digby morrell born 10 october 1979 is a former...  \n",
              "1  alfred j lewy aka sandy lewy graduated from un...  \n",
              "2  harpdog brown is a singer and harmonica player...  \n",
              "3  franz rottensteiner born in waidmannsfeld lowe...  \n",
              "4  henry krvits born 30 december 1974 in tallinn ...  "
            ],
            "text/html": [
              "\n",
              "  <div id=\"df-708b560e-225e-4c9a-84a0-2c24bef7c585\" class=\"colab-df-container\">\n",
              "    <div>\n",
              "<style scoped>\n",
              "    .dataframe tbody tr th:only-of-type {\n",
              "        vertical-align: middle;\n",
              "    }\n",
              "\n",
              "    .dataframe tbody tr th {\n",
              "        vertical-align: top;\n",
              "    }\n",
              "\n",
              "    .dataframe thead th {\n",
              "        text-align: right;\n",
              "    }\n",
              "</style>\n",
              "<table border=\"1\" class=\"dataframe\">\n",
              "  <thead>\n",
              "    <tr style=\"text-align: right;\">\n",
              "      <th></th>\n",
              "      <th>URI</th>\n",
              "      <th>name</th>\n",
              "      <th>text</th>\n",
              "    </tr>\n",
              "  </thead>\n",
              "  <tbody>\n",
              "    <tr>\n",
              "      <th>0</th>\n",
              "      <td>&lt;http://dbpedia.org/resource/Digby_Morrell&gt;</td>\n",
              "      <td>Digby Morrell</td>\n",
              "      <td>digby morrell born 10 october 1979 is a former...</td>\n",
              "    </tr>\n",
              "    <tr>\n",
              "      <th>1</th>\n",
              "      <td>&lt;http://dbpedia.org/resource/Alfred_J._Lewy&gt;</td>\n",
              "      <td>Alfred J. Lewy</td>\n",
              "      <td>alfred j lewy aka sandy lewy graduated from un...</td>\n",
              "    </tr>\n",
              "    <tr>\n",
              "      <th>2</th>\n",
              "      <td>&lt;http://dbpedia.org/resource/Harpdog_Brown&gt;</td>\n",
              "      <td>Harpdog Brown</td>\n",
              "      <td>harpdog brown is a singer and harmonica player...</td>\n",
              "    </tr>\n",
              "    <tr>\n",
              "      <th>3</th>\n",
              "      <td>&lt;http://dbpedia.org/resource/Franz_Rottensteiner&gt;</td>\n",
              "      <td>Franz Rottensteiner</td>\n",
              "      <td>franz rottensteiner born in waidmannsfeld lowe...</td>\n",
              "    </tr>\n",
              "    <tr>\n",
              "      <th>4</th>\n",
              "      <td>&lt;http://dbpedia.org/resource/G-Enka&gt;</td>\n",
              "      <td>G-Enka</td>\n",
              "      <td>henry krvits born 30 december 1974 in tallinn ...</td>\n",
              "    </tr>\n",
              "  </tbody>\n",
              "</table>\n",
              "</div>\n",
              "    <div class=\"colab-df-buttons\">\n",
              "\n",
              "  <div class=\"colab-df-container\">\n",
              "    <button class=\"colab-df-convert\" onclick=\"convertToInteractive('df-708b560e-225e-4c9a-84a0-2c24bef7c585')\"\n",
              "            title=\"Convert this dataframe to an interactive table.\"\n",
              "            style=\"display:none;\">\n",
              "\n",
              "  <svg xmlns=\"http://www.w3.org/2000/svg\" height=\"24px\" viewBox=\"0 -960 960 960\">\n",
              "    <path d=\"M120-120v-720h720v720H120Zm60-500h600v-160H180v160Zm220 220h160v-160H400v160Zm0 220h160v-160H400v160ZM180-400h160v-160H180v160Zm440 0h160v-160H620v160ZM180-180h160v-160H180v160Zm440 0h160v-160H620v160Z\"/>\n",
              "  </svg>\n",
              "    </button>\n",
              "\n",
              "  <style>\n",
              "    .colab-df-container {\n",
              "      display:flex;\n",
              "      gap: 12px;\n",
              "    }\n",
              "\n",
              "    .colab-df-convert {\n",
              "      background-color: #E8F0FE;\n",
              "      border: none;\n",
              "      border-radius: 50%;\n",
              "      cursor: pointer;\n",
              "      display: none;\n",
              "      fill: #1967D2;\n",
              "      height: 32px;\n",
              "      padding: 0 0 0 0;\n",
              "      width: 32px;\n",
              "    }\n",
              "\n",
              "    .colab-df-convert:hover {\n",
              "      background-color: #E2EBFA;\n",
              "      box-shadow: 0px 1px 2px rgba(60, 64, 67, 0.3), 0px 1px 3px 1px rgba(60, 64, 67, 0.15);\n",
              "      fill: #174EA6;\n",
              "    }\n",
              "\n",
              "    .colab-df-buttons div {\n",
              "      margin-bottom: 4px;\n",
              "    }\n",
              "\n",
              "    [theme=dark] .colab-df-convert {\n",
              "      background-color: #3B4455;\n",
              "      fill: #D2E3FC;\n",
              "    }\n",
              "\n",
              "    [theme=dark] .colab-df-convert:hover {\n",
              "      background-color: #434B5C;\n",
              "      box-shadow: 0px 1px 3px 1px rgba(0, 0, 0, 0.15);\n",
              "      filter: drop-shadow(0px 1px 2px rgba(0, 0, 0, 0.3));\n",
              "      fill: #FFFFFF;\n",
              "    }\n",
              "  </style>\n",
              "\n",
              "    <script>\n",
              "      const buttonEl =\n",
              "        document.querySelector('#df-708b560e-225e-4c9a-84a0-2c24bef7c585 button.colab-df-convert');\n",
              "      buttonEl.style.display =\n",
              "        google.colab.kernel.accessAllowed ? 'block' : 'none';\n",
              "\n",
              "      async function convertToInteractive(key) {\n",
              "        const element = document.querySelector('#df-708b560e-225e-4c9a-84a0-2c24bef7c585');\n",
              "        const dataTable =\n",
              "          await google.colab.kernel.invokeFunction('convertToInteractive',\n",
              "                                                    [key], {});\n",
              "        if (!dataTable) return;\n",
              "\n",
              "        const docLinkHtml = 'Like what you see? Visit the ' +\n",
              "          '<a target=\"_blank\" href=https://colab.research.google.com/notebooks/data_table.ipynb>data table notebook</a>'\n",
              "          + ' to learn more about interactive tables.';\n",
              "        element.innerHTML = '';\n",
              "        dataTable['output_type'] = 'display_data';\n",
              "        await google.colab.output.renderOutput(dataTable, element);\n",
              "        const docLink = document.createElement('div');\n",
              "        docLink.innerHTML = docLinkHtml;\n",
              "        element.appendChild(docLink);\n",
              "      }\n",
              "    </script>\n",
              "  </div>\n",
              "\n",
              "\n",
              "<div id=\"df-5764c92a-0c11-4996-b842-10497af5890b\">\n",
              "  <button class=\"colab-df-quickchart\" onclick=\"quickchart('df-5764c92a-0c11-4996-b842-10497af5890b')\"\n",
              "            title=\"Suggest charts\"\n",
              "            style=\"display:none;\">\n",
              "\n",
              "<svg xmlns=\"http://www.w3.org/2000/svg\" height=\"24px\"viewBox=\"0 0 24 24\"\n",
              "     width=\"24px\">\n",
              "    <g>\n",
              "        <path d=\"M19 3H5c-1.1 0-2 .9-2 2v14c0 1.1.9 2 2 2h14c1.1 0 2-.9 2-2V5c0-1.1-.9-2-2-2zM9 17H7v-7h2v7zm4 0h-2V7h2v10zm4 0h-2v-4h2v4z\"/>\n",
              "    </g>\n",
              "</svg>\n",
              "  </button>\n",
              "\n",
              "<style>\n",
              "  .colab-df-quickchart {\n",
              "      --bg-color: #E8F0FE;\n",
              "      --fill-color: #1967D2;\n",
              "      --hover-bg-color: #E2EBFA;\n",
              "      --hover-fill-color: #174EA6;\n",
              "      --disabled-fill-color: #AAA;\n",
              "      --disabled-bg-color: #DDD;\n",
              "  }\n",
              "\n",
              "  [theme=dark] .colab-df-quickchart {\n",
              "      --bg-color: #3B4455;\n",
              "      --fill-color: #D2E3FC;\n",
              "      --hover-bg-color: #434B5C;\n",
              "      --hover-fill-color: #FFFFFF;\n",
              "      --disabled-bg-color: #3B4455;\n",
              "      --disabled-fill-color: #666;\n",
              "  }\n",
              "\n",
              "  .colab-df-quickchart {\n",
              "    background-color: var(--bg-color);\n",
              "    border: none;\n",
              "    border-radius: 50%;\n",
              "    cursor: pointer;\n",
              "    display: none;\n",
              "    fill: var(--fill-color);\n",
              "    height: 32px;\n",
              "    padding: 0;\n",
              "    width: 32px;\n",
              "  }\n",
              "\n",
              "  .colab-df-quickchart:hover {\n",
              "    background-color: var(--hover-bg-color);\n",
              "    box-shadow: 0 1px 2px rgba(60, 64, 67, 0.3), 0 1px 3px 1px rgba(60, 64, 67, 0.15);\n",
              "    fill: var(--button-hover-fill-color);\n",
              "  }\n",
              "\n",
              "  .colab-df-quickchart-complete:disabled,\n",
              "  .colab-df-quickchart-complete:disabled:hover {\n",
              "    background-color: var(--disabled-bg-color);\n",
              "    fill: var(--disabled-fill-color);\n",
              "    box-shadow: none;\n",
              "  }\n",
              "\n",
              "  .colab-df-spinner {\n",
              "    border: 2px solid var(--fill-color);\n",
              "    border-color: transparent;\n",
              "    border-bottom-color: var(--fill-color);\n",
              "    animation:\n",
              "      spin 1s steps(1) infinite;\n",
              "  }\n",
              "\n",
              "  @keyframes spin {\n",
              "    0% {\n",
              "      border-color: transparent;\n",
              "      border-bottom-color: var(--fill-color);\n",
              "      border-left-color: var(--fill-color);\n",
              "    }\n",
              "    20% {\n",
              "      border-color: transparent;\n",
              "      border-left-color: var(--fill-color);\n",
              "      border-top-color: var(--fill-color);\n",
              "    }\n",
              "    30% {\n",
              "      border-color: transparent;\n",
              "      border-left-color: var(--fill-color);\n",
              "      border-top-color: var(--fill-color);\n",
              "      border-right-color: var(--fill-color);\n",
              "    }\n",
              "    40% {\n",
              "      border-color: transparent;\n",
              "      border-right-color: var(--fill-color);\n",
              "      border-top-color: var(--fill-color);\n",
              "    }\n",
              "    60% {\n",
              "      border-color: transparent;\n",
              "      border-right-color: var(--fill-color);\n",
              "    }\n",
              "    80% {\n",
              "      border-color: transparent;\n",
              "      border-right-color: var(--fill-color);\n",
              "      border-bottom-color: var(--fill-color);\n",
              "    }\n",
              "    90% {\n",
              "      border-color: transparent;\n",
              "      border-bottom-color: var(--fill-color);\n",
              "    }\n",
              "  }\n",
              "</style>\n",
              "\n",
              "  <script>\n",
              "    async function quickchart(key) {\n",
              "      const quickchartButtonEl =\n",
              "        document.querySelector('#' + key + ' button');\n",
              "      quickchartButtonEl.disabled = true;  // To prevent multiple clicks.\n",
              "      quickchartButtonEl.classList.add('colab-df-spinner');\n",
              "      try {\n",
              "        const charts = await google.colab.kernel.invokeFunction(\n",
              "            'suggestCharts', [key], {});\n",
              "      } catch (error) {\n",
              "        console.error('Error during call to suggestCharts:', error);\n",
              "      }\n",
              "      quickchartButtonEl.classList.remove('colab-df-spinner');\n",
              "      quickchartButtonEl.classList.add('colab-df-quickchart-complete');\n",
              "    }\n",
              "    (() => {\n",
              "      let quickchartButtonEl =\n",
              "        document.querySelector('#df-5764c92a-0c11-4996-b842-10497af5890b button');\n",
              "      quickchartButtonEl.style.display =\n",
              "        google.colab.kernel.accessAllowed ? 'block' : 'none';\n",
              "    })();\n",
              "  </script>\n",
              "</div>\n",
              "\n",
              "    </div>\n",
              "  </div>\n"
            ],
            "application/vnd.google.colaboratory.intrinsic+json": {
              "type": "dataframe",
              "variable_name": "train_orig",
              "summary": "{\n  \"name\": \"train_orig\",\n  \"rows\": 42786,\n  \"fields\": [\n    {\n      \"column\": \"URI\",\n      \"properties\": {\n        \"dtype\": \"string\",\n        \"num_unique_values\": 42786,\n        \"samples\": [\n          \"<http://dbpedia.org/resource/Tom_Bancroft>\",\n          \"<http://dbpedia.org/resource/Bart_Zeller>\",\n          \"<http://dbpedia.org/resource/Caitlin_Morrall>\"\n        ],\n        \"semantic_type\": \"\",\n        \"description\": \"\"\n      }\n    },\n    {\n      \"column\": \"name\",\n      \"properties\": {\n        \"dtype\": \"string\",\n        \"num_unique_values\": 42785,\n        \"samples\": [\n          \"Tom Bancroft\",\n          \"James Holt (scholar)\",\n          \"Chen Tze-chung\"\n        ],\n        \"semantic_type\": \"\",\n        \"description\": \"\"\n      }\n    },\n    {\n      \"column\": \"text\",\n      \"properties\": {\n        \"dtype\": \"string\",\n        \"num_unique_values\": 42786,\n        \"samples\": [\n          \"tom bancroft born 1967 london is a british jazz drummer and composer he began drumming aged seven and started off playing jazz with his father and identical twin brother phil after studying medicine at cambridge university he spent a year studying composition and arranging at mcgill university in montreal canada qualifying as a doctor in 1992 he then worked as a jazz musician and composer supporting his music income with locum work as a hospital doctor until 1998 when he began starting music related companies he is married to singer gina rae and has two children sam and sophie in 2004 he received the creative scotland awardin 1998 he launched caber music with support from the national lottery fund which went on to release over thirty cds over the next seven years to critical acclaim including two bbc jazz awards for best cd and numerous album of the year placings he has subsequently started the company abc creative music with his twin brother phil bancroft which develops creative music education resources which are now being used in more than 500 schools in scotlandas a drummer he has studied with jo morello joey baron and andrew cyrille and played with many musicians including sun ra joakim milder charlie mariano hamiett bluiett liane carroll oliver lake george colligan david berkman tommy smith julian argelles emil vicklicky martin taylor sheila jordan shooglenifty karen mathieson reid anderson billy jenkins bill wells geri allen mr mcfalls chamber and martyn bennetthe is currently the drummer with the dave milligan trio the chick lyall trio and kevin mackenzies vital signs the laura macdonald quartet and octet and plays in an improvising duo with the italian guitarist enzo roccohe is drummer and coleader of trio aab whose first album cold fusion was named an album of 1999 by bbc radio 3 and whose second album wherever i lay my home thats my hat was an album of 2001 in the guardian and picked in a list of 100 essential all time jazz albums by mojo magazine in 2001 they also released stranger things happen at c in 2002 reactivated in 2011 trio aab performed at the delhi jazz festivalas a band leader and composer he has led orchestro interrupto formerly the tom bancroft orchestra a contemporary jazz big band producing the album pieology in 1998 many festival performances a uk tour and a live concert broadcast on bbc radio 3 in 2004 the band toured the uk with geri allen and the tour was broadcast on bbc radio 3 and received five star reviews in the guardian and the scotsman and was voted jazz gig of the year in manchesters city limits and londons time out magazines orchestri interrupto released a cd in 2009 of the music from the geri allen tour with chick lyall on piano entitled the ballad of linda crawford bancroft has also composed for smaller groups including the orange ear ensemble octet and kilt couture a collaboration with french group arfi in 2006 he launched the new tom bancroft 6 pack as well as a spinoff childrens focussed band from the orchestra called kidsamonium which premiered at the gateshead international jazz festival at the sage gateshead and also at the cheltenham jazz festival in 2006 and went on to perform all over europebancrofts compositions have been used in radio film dance television and theatre he has been commissioned by bbc scotland bbc radio 3 glasgow international jazz festival assembly direct birmingham jazz and the national youth jazz orchestra of scotland he has danced in played and composed music for life on the planets surface with kelsey michael and a case for a picnic pt2 tracing houdini and hoops hats acrobats with the choreographer ruby worthhe has led many large scale community and education projects including 150 primary school children performing at the london jazz festival 200 at perth concert hall with classical percussionist colin currie and 100 parents grandparents and children playing drums and percussion at the big stix project at the gateshead jazz festivalbancroft is an active teacher and educator from private drum students to teaching composition and leading big bands he is an apple distinguished educator he has always been active in setting up new ways to promote jazz and improvisation he curated a series of mini festivals for uk and european musicians inside the glasgow jazz festival in the 1990s called clandemonium and europhonium he was active in setting up the scottish jazz federationin 2010 he was musical director of major dance show off kilter which played in major venues across scotland toured scotland with the dave milligan trio and premiered the band of eden malefemale big band to critical acclaimin late 2010 in his role at abc creative music bancroft launched the website abc creative music online to allow scottish schools to teach creative music by smartboard\",\n          \"barton wallace zeller born july 22 1941 is a former professional baseball catcher he played one game in major league baseball in 1970 for the st louis cardinals he recently served as manager of the joliet slammers of the frontier league but was released on september 10 2012zeller was signed by the cardinals in 1963 and spent four years in the cardinals farm system after missing the 1967 season he spent 1968 and 1969 with the lewiston broncs and arkansas travelers respectively zeller played in his only major league game on may 21 1970 against the philadelphia phillies he was inserted to catch the bottom of the ninth inning zeller never had a plate appearance but was credited with one put out on billy mccools strikeout of jim hutto zeller batted and threw righthanded his jersey number was 29 at the time of play he was 6 ft 1 in tall and weighed 185 lbzeller was released as an active player by the cardinals on june 8 but stayed on as a coach for the balance of the 1970 season he played in the minors in 1971 in the milwaukee brewers and new york yankees organizationszeller was the hitting coachthird base coach for the southern illinois miners of the frontier league an independent baseball league zeller began working for the miners in their inaugural 2007 season before coming to the miners zeller spent two seasons with the sioux falls canaries as a bench coach zeller was named as the first manager of slammers in january 2011zeller is currently managing the washington wild things of the frontier league\",\n          \"caitlin shea morrall machol born may 2 1983 is a beauty queen from burlington wisconsin who competed in the 2008 miss usa pageantmorrall who had previously competed in the miss wisconsin america system won the miss wisconsin usa 2007 title in the state pageant held at richland center on 2 september 2006 she competed in the nationally televised miss usa 2007 pageant which was broadcast live from the kodak theatre in hollywood california on march 23 2007 where she placed in top 15 this was the best finish by a contestant from wisconsin in 28 yearsin june 2006 morrall placed first runnerup in the miss wisconsin competition where she competed as miss burlington area chocolatefest she had previously placed 3rd runnerup in 2004 1st runnerup in 2003 and 2nd runnerup in 2002 morrall has held other local titles such as miss racine in 2002 miss milwaukee in 2003 and miss southern wisconsin in 2004 despite being eligible to compete in the miss america system for one more year morrall made the decision to compete in the miss wisconsin usa pageant one week before applications for the pageant closedmorrall is a 2001 graduate of burlington high school wisconsin and is a 2008 graduate of alverno college in milwaukee with a bachelor of arts degree in professional communicationcaitlin is currently the traffic reporter in the morning for wtmjtv 4\"\n        ],\n        \"semantic_type\": \"\",\n        \"description\": \"\"\n      }\n    }\n  ]\n}"
            }
          },
          "metadata": {},
          "execution_count": 63
        }
      ]
    },
    {
      "cell_type": "code",
      "source": [
        "cvs_df= train_orig.copy()"
      ],
      "metadata": {
        "id": "u3zvu_0DGOzs"
      },
      "execution_count": null,
      "outputs": []
    },
    {
      "cell_type": "code",
      "source": [
        "cvs_df.shape"
      ],
      "metadata": {
        "colab": {
          "base_uri": "https://localhost:8080/"
        },
        "id": "uGvza9ZF1K1Z",
        "outputId": "6d02d444-f783-4e2c-d923-5d25e35700f9"
      },
      "execution_count": null,
      "outputs": [
        {
          "output_type": "execute_result",
          "data": {
            "text/plain": [
              "(42786, 3)"
            ]
          },
          "metadata": {},
          "execution_count": 65
        }
      ]
    },
    {
      "cell_type": "code",
      "source": [
        "cvs_df.info()"
      ],
      "metadata": {
        "colab": {
          "base_uri": "https://localhost:8080/"
        },
        "id": "xLdDpNFj1MjH",
        "outputId": "25af0392-ed1e-4424-eec1-2c60e27cdb97"
      },
      "execution_count": null,
      "outputs": [
        {
          "output_type": "stream",
          "name": "stdout",
          "text": [
            "<class 'pandas.core.frame.DataFrame'>\n",
            "RangeIndex: 42786 entries, 0 to 42785\n",
            "Data columns (total 3 columns):\n",
            " #   Column  Non-Null Count  Dtype \n",
            "---  ------  --------------  ----- \n",
            " 0   URI     42786 non-null  object\n",
            " 1   name    42786 non-null  object\n",
            " 2   text    42786 non-null  object\n",
            "dtypes: object(3)\n",
            "memory usage: 1002.9+ KB\n"
          ]
        }
      ]
    },
    {
      "cell_type": "code",
      "source": [
        "cvs_df.iloc[7639].text\n"
      ],
      "metadata": {
        "colab": {
          "base_uri": "https://localhost:8080/",
          "height": 214
        },
        "id": "blvzntqnlETV",
        "outputId": "0420f76e-4e72-47d3-b4ba-93963077481d"
      },
      "execution_count": null,
      "outputs": [
        {
          "output_type": "execute_result",
          "data": {
            "text/plain": [
              "'samuel hollingsworth young born december 26 1922 was a us representative from illinoisborn in casey illinois young graduated from urbana high school urbana illinois in 1940 he received an llb from the university of illinois in 1947 and a jd from university of illinois law school in 1948young served in the united states army paratroops from 1943 to 1946 and attained the rank of captain he was admitted to the illinois bar in 1948 and commenced practice in chicago with the united states securities and exchange commission he also served as a lawyer in private practice from 1947 to 1948 young was an instructor in economics at university of illinois and taught business finance at northwestern university from 1949 to 1950young served as securities commissioner of illinois from 1953 to 1955 and as assistant secretary of state from 1955 to 1957 he was financial vice president secretary and treasurer for a hospital supply company from 1965 to 1966 he also served as delegate to the illinois state republican conventions from 1951 to 1973young was elected as a republican to the ninetythird congress january 3 1973january 3 1975 he was an unsuccessful candidate for reelection to the ninetyfourth congress in 1974 and was an unsuccessful candidate for election to the ninetyfifth congress in 1976as of 2013 he is a resident of glenview illinois and marco island florida'"
            ],
            "application/vnd.google.colaboratory.intrinsic+json": {
              "type": "string"
            }
          },
          "metadata": {},
          "execution_count": 67
        }
      ]
    },
    {
      "cell_type": "code",
      "source": [
        "Sampled_df =cvs_df.sample(n=10000, random_state=42)\n"
      ],
      "metadata": {
        "id": "fAYOunWslLlI"
      },
      "execution_count": null,
      "outputs": []
    },
    {
      "cell_type": "code",
      "source": [
        "page_list_orig = Sampled_df['text'].tolist()\n"
      ],
      "metadata": {
        "id": "tU3UmoeUlQmQ"
      },
      "execution_count": null,
      "outputs": []
    },
    {
      "cell_type": "markdown",
      "source": [
        "### Clean the data frame that holds the Name & Text- remove unnessary characters"
      ],
      "metadata": {
        "id": "eqStQllTNnaN"
      }
    },
    {
      "cell_type": "code",
      "source": [
        "for i, page in enumerate(page_list_orig):\n",
        "  page_list_orig[i] = (\n",
        "    page\n",
        "    .replace(\"\\n\",\" \")\n",
        "    .replace(\"\\'s\",'')\n",
        "    .replace('\\'','')\n",
        "    .replace(\"(\", \"\")\n",
        "    .replace(\")\", \"\")\n",
        "    .replace('\"', \"\")\n",
        "  )\n"
      ],
      "metadata": {
        "id": "5IgMYNkTI0Ej"
      },
      "execution_count": null,
      "outputs": []
    },
    {
      "cell_type": "code",
      "source": [
        "page_list_orig[0]"
      ],
      "metadata": {
        "colab": {
          "base_uri": "https://localhost:8080/",
          "height": 214
        },
        "id": "hYvYiwaHkLkx",
        "outputId": "77c80065-c018-4f89-a5ab-1013d721298d"
      },
      "execution_count": null,
      "outputs": [
        {
          "output_type": "execute_result",
          "data": {
            "text/plain": [
              "'tom bancroft born 1967 london is a british jazz drummer and composer he began drumming aged seven and started off playing jazz with his father and identical twin brother phil after studying medicine at cambridge university he spent a year studying composition and arranging at mcgill university in montreal canada qualifying as a doctor in 1992 he then worked as a jazz musician and composer supporting his music income with locum work as a hospital doctor until 1998 when he began starting music related companies he is married to singer gina rae and has two children sam and sophie in 2004 he received the creative scotland awardin 1998 he launched caber music with support from the national lottery fund which went on to release over thirty cds over the next seven years to critical acclaim including two bbc jazz awards for best cd and numerous album of the year placings he has subsequently started the company abc creative music with his twin brother phil bancroft which develops creative music education resources which are now being used in more than 500 schools in scotlandas a drummer he has studied with jo morello joey baron and andrew cyrille and played with many musicians including sun ra joakim milder charlie mariano hamiett bluiett liane carroll oliver lake george colligan david berkman tommy smith julian argelles emil vicklicky martin taylor sheila jordan shooglenifty karen mathieson reid anderson billy jenkins bill wells geri allen mr mcfalls chamber and martyn bennetthe is currently the drummer with the dave milligan trio the chick lyall trio and kevin mackenzies vital signs the laura macdonald quartet and octet and plays in an improvising duo with the italian guitarist enzo roccohe is drummer and coleader of trio aab whose first album cold fusion was named an album of 1999 by bbc radio 3 and whose second album wherever i lay my home thats my hat was an album of 2001 in the guardian and picked in a list of 100 essential all time jazz albums by mojo magazine in 2001 they also released stranger things happen at c in 2002 reactivated in 2011 trio aab performed at the delhi jazz festivalas a band leader and composer he has led orchestro interrupto formerly the tom bancroft orchestra a contemporary jazz big band producing the album pieology in 1998 many festival performances a uk tour and a live concert broadcast on bbc radio 3 in 2004 the band toured the uk with geri allen and the tour was broadcast on bbc radio 3 and received five star reviews in the guardian and the scotsman and was voted jazz gig of the year in manchesters city limits and londons time out magazines orchestri interrupto released a cd in 2009 of the music from the geri allen tour with chick lyall on piano entitled the ballad of linda crawford bancroft has also composed for smaller groups including the orange ear ensemble octet and kilt couture a collaboration with french group arfi in 2006 he launched the new tom bancroft 6 pack as well as a spinoff childrens focussed band from the orchestra called kidsamonium which premiered at the gateshead international jazz festival at the sage gateshead and also at the cheltenham jazz festival in 2006 and went on to perform all over europebancrofts compositions have been used in radio film dance television and theatre he has been commissioned by bbc scotland bbc radio 3 glasgow international jazz festival assembly direct birmingham jazz and the national youth jazz orchestra of scotland he has danced in played and composed music for life on the planets surface with kelsey michael and a case for a picnic pt2 tracing houdini and hoops hats acrobats with the choreographer ruby worthhe has led many large scale community and education projects including 150 primary school children performing at the london jazz festival 200 at perth concert hall with classical percussionist colin currie and 100 parents grandparents and children playing drums and percussion at the big stix project at the gateshead jazz festivalbancroft is an active teacher and educator from private drum students to teaching composition and leading big bands he is an apple distinguished educator he has always been active in setting up new ways to promote jazz and improvisation he curated a series of mini festivals for uk and european musicians inside the glasgow jazz festival in the 1990s called clandemonium and europhonium he was active in setting up the scottish jazz federationin 2010 he was musical director of major dance show off kilter which played in major venues across scotland toured scotland with the dave milligan trio and premiered the band of eden malefemale big band to critical acclaimin late 2010 in his role at abc creative music bancroft launched the website abc creative music online to allow scottish schools to teach creative music by smartboard'"
            ],
            "application/vnd.google.colaboratory.intrinsic+json": {
              "type": "string"
            }
          },
          "metadata": {},
          "execution_count": 71
        }
      ]
    },
    {
      "cell_type": "markdown",
      "source": [
        "### Create text blobs out of the 'text' feature"
      ],
      "metadata": {
        "id": "RrnKCPq-Nwiu"
      }
    },
    {
      "cell_type": "code",
      "source": [
        "\n",
        "page_list_prepped = page_list_orig.copy()\n",
        "\n",
        "for i, page in enumerate(page_list_prepped):\n",
        "  if (i % 1000) == 0:\n",
        "    print(i)\n",
        "  page_blob = TextBlob(page)\n",
        "  singlurized_page = ''\n",
        "  for j, sentence in enumerate(page_blob.sentences[:]):\n",
        "    singularized_sentence = ' '.join([x.singularize() for x in sentence.words])\n",
        "    if j == 0:\n",
        "      singlurized_page = singularized_sentence\n",
        "    else:\n",
        "      singlurized_page = singlurized_page + ' ' + singularized_sentence\n",
        "  page_list_prepped[i] = str(singlurized_page)\n",
        "\n",
        "page_list_prepped[0]\n"
      ],
      "metadata": {
        "colab": {
          "base_uri": "https://localhost:8080/",
          "height": 393
        },
        "id": "m5Be14wejd4b",
        "outputId": "4c270319-5e4d-4d9c-c46d-6b9333238a20"
      },
      "execution_count": null,
      "outputs": [
        {
          "output_type": "stream",
          "name": "stdout",
          "text": [
            "0\n",
            "1000\n",
            "2000\n",
            "3000\n",
            "4000\n",
            "5000\n",
            "6000\n",
            "7000\n",
            "8000\n",
            "9000\n"
          ]
        },
        {
          "output_type": "execute_result",
          "data": {
            "text/plain": [
              "'tom bancroft born 1967 london is a british jazz drummer and composer he began drumming aged seven and started off playing jazz with hi father and identical twin brother phil after studying medicine at cambridge university he spent a year studying composition and arranging at mcgill university in montreal canada qualifying a a doctor in 1992 he then worked a a jazz musician and composer supporting hi music income with locum work a a hospital doctor until 1998 when he began starting music related company he is married to singer gina ra and ha two child sam and sophie in 2004 he received the creative scotland awardin 1998 he launched caber music with support from the national lottery fund which went on to release over thirty cd over the next seven year to critical acclaim including two bbc jazz award for best cd and numerou album of the year placing he ha subsequently started the company abc creative music with hi twin brother phil bancroft which develop creative music education resource which are now being used in more than 500 school in scotlanda a drummer he ha studied with jo morello joey baron and andrew cyrille and played with many musician including sun ra joakim milder charlie mariano hamiett bluiett liane carroll oliver lake george colligan david berkman tommy smith julian argelle emil vicklicky martin taylor sheila jordan shooglenifty karen mathieson reid anderson billy jenkin bill well gerus allen mr mcfall chamber and martyn bennetthe is currently the drummer with the dave milligan trio the chick lyall trio and kevin mackenzy vital sign the laura macdonald quartet and octet and play in an improvising duo with the italian guitarist enzo roccohe is drummer and coleader of trio aab whose first album cold fusion wa named an album of 1999 by bbc radio 3 and whose second album wherever i lay my home that my hat wa an album of 2001 in the guardian and picked in a list of 100 essential all time jazz album by mojo magazine in 2001 they also released stranger thing happen at c in 2002 reactivated in 2011 trio aab performed at the delhi jazz festivala a band leader and composer he ha led orchestro interrupto formerly the tom bancroft orchestra a contemporary jazz big band producing the album pieology in 1998 many festival performance a uk tmy and a live concert broadcast on bbc radio 3 in 2004 the band toured the uk with gerus allen and the tmy wa broadcast on bbc radio 3 and received five star review in the guardian and the scotsman and wa voted jazz gig of the year in manchester city limit and london time out magazine orchestrus interrupto released a cd in 2009 of the music from the gerus allen tmy with chick lyall on piano entitled the ballad of linda crawford bancroft ha also composed for smaller group including the orange ear ensemble octet and kilt couture a collaboration with french group arfi in 2006 he launched the new tom bancroft 6 pack a well a a spinoff children focussed band from the orchestra called kidsamonium which premiered at the gateshead international jazz festival at the sage gateshead and also at the cheltenham jazz festival in 2006 and went on to perform all over europebancroft composition have been used in radio film dance television and theatre he ha been commissioned by bbc scotland bbc radio 3 glasgow international jazz festival assembly direct birmingham jazz and the national youth jazz orchestra of scotland he ha danced in played and composed music for life on the planet surface with kelsey michael and a case for a picnic pt2 tracing houdini and hoop hat acrobat with the choreographer ruby worthhe ha led many large scale community and education project including 150 primary school child performing at the london jazz festival 200 at perth concert hall with classical percussionist colin currie and 100 parent grandparent and child playing drum and percussion at the big stix project at the gateshead jazz festivalbancroft is an active teacher and educator from private drum student to teaching composition and leading big band he is an apple distinguished educator he ha alway been active in setting up new way to promote jazz and improvisation he curated a series of mini festival for uk and european musician inside the glasgow jazz festival in the 1990 called clandemonium and europhonium he wa active in setting up the scottish jazz federationin 2010 he wa musical director of major dance show off kilter which played in major venue acros scotland toured scotland with the dave milligan trio and premiered the band of eden malefemale big band to critical acclaimin late 2010 in hi role at abc creative music bancroft launched the website abc creative music online to allow scottish school to teach creative music by smartboard'"
            ],
            "application/vnd.google.colaboratory.intrinsic+json": {
              "type": "string"
            }
          },
          "metadata": {},
          "execution_count": 73
        }
      ]
    },
    {
      "cell_type": "markdown",
      "source": [
        "#BOW- With Word Vectorization"
      ],
      "metadata": {
        "id": "S3sQmtt9n04P"
      }
    },
    {
      "cell_type": "code",
      "source": [
        "# Perform the count transformation\n",
        "BoW =  BagOfWords(stop_words='english')\n",
        "bow_vec = BoW.fit_transform(page_list_prepped)\n",
        "bow_vec.toarray()\n"
      ],
      "metadata": {
        "colab": {
          "base_uri": "https://localhost:8080/"
        },
        "id": "In3TIPi2lu4v",
        "outputId": "0947ba8e-2981-4663-e590-dcd293295850"
      },
      "execution_count": null,
      "outputs": [
        {
          "output_type": "execute_result",
          "data": {
            "text/plain": [
              "array([[0, 0, 0, ..., 0, 0, 0],\n",
              "       [0, 0, 0, ..., 0, 0, 0],\n",
              "       [0, 0, 0, ..., 0, 0, 0],\n",
              "       ...,\n",
              "       [0, 0, 0, ..., 0, 0, 0],\n",
              "       [0, 0, 0, ..., 0, 0, 0],\n",
              "       [0, 0, 0, ..., 0, 0, 0]])"
            ]
          },
          "metadata": {},
          "execution_count": 74
        }
      ]
    },
    {
      "cell_type": "code",
      "source": [
        "BoW.get_feature_names_out()"
      ],
      "metadata": {
        "colab": {
          "base_uri": "https://localhost:8080/"
        },
        "id": "8-7x49iIJoRv",
        "outputId": "927ab1d1-981b-4e7b-ec0b-33edc3078bce"
      },
      "execution_count": null,
      "outputs": [
        {
          "output_type": "execute_result",
          "data": {
            "text/plain": [
              "array(['00', '000', '00000', ..., 'zyzzyva', 'zyzzyza', 'zz'],\n",
              "      dtype=object)"
            ]
          },
          "metadata": {},
          "execution_count": 75
        }
      ]
    },
    {
      "cell_type": "markdown",
      "source": [
        "##TF-IDF"
      ],
      "metadata": {
        "id": "OsESXo4dpC8C"
      }
    },
    {
      "cell_type": "code",
      "source": [
        "tf_idf_vec = TfidfTransformer()\n",
        "tf_idf_pages = tf_idf_vec.fit_transform(bow_vec)\n",
        "tf_idf_pages.toarray()\n"
      ],
      "metadata": {
        "colab": {
          "base_uri": "https://localhost:8080/"
        },
        "id": "qp71pCOVoc9p",
        "outputId": "809de9d7-44f9-41c6-ee1d-5ae54fb45f4a"
      },
      "execution_count": null,
      "outputs": [
        {
          "output_type": "execute_result",
          "data": {
            "text/plain": [
              "array([[0., 0., 0., ..., 0., 0., 0.],\n",
              "       [0., 0., 0., ..., 0., 0., 0.],\n",
              "       [0., 0., 0., ..., 0., 0., 0.],\n",
              "       ...,\n",
              "       [0., 0., 0., ..., 0., 0., 0.],\n",
              "       [0., 0., 0., ..., 0., 0., 0.],\n",
              "       [0., 0., 0., ..., 0., 0., 0.]])"
            ]
          },
          "metadata": {},
          "execution_count": 76
        }
      ]
    },
    {
      "cell_type": "markdown",
      "source": [
        "#K Nearest Neighbords"
      ],
      "metadata": {
        "id": "FLDmyYa7osZ7"
      }
    },
    {
      "cell_type": "code",
      "source": [
        "nn = NearestNeighbors().fit(tf_idf_pages)\n"
      ],
      "metadata": {
        "id": "82VsfQ3hNOn3"
      },
      "execution_count": null,
      "outputs": []
    },
    {
      "cell_type": "code",
      "source": [
        "def map_sentiment_to_emoji(polarity):\n",
        "    if polarity > 0.5:\n",
        "        return \"😄\"  # Happy face emoji for positive sentiment\n",
        "    elif polarity < -0.5:\n",
        "        return \"😞\"  # Sad face emoji for negative sentiment\n",
        "    else:\n",
        "        return \"😐\"  # Neutral face emoji for neutral sentiment\n"
      ],
      "metadata": {
        "id": "yfJiH91k146_"
      },
      "execution_count": null,
      "outputs": []
    },
    {
      "cell_type": "code",
      "source": [
        "sampled_idx = 453\n",
        "compute_nearest_documents(sampled_idx)"
      ],
      "metadata": {
        "id": "vVa0b3BZCf1r"
      },
      "execution_count": null,
      "outputs": []
    },
    {
      "cell_type": "code",
      "source": [
        "\n",
        "# Define a function to fetch Wikipedia content\n",
        "def fetch_wikipedia_content(topic):\n",
        "    wikip = wikipediaapi.Wikipedia(user_agent='foobar')\n",
        "    page = wikip.page(topic)\n",
        "    if page.exists():\n",
        "        return page.text\n",
        "    else:\n",
        "        return None\n",
        "\n",
        "def compute_nearest_documents(idx):\n",
        "    distances, indices = nn.kneighbors(tf_idf_pages[idx], n_neighbors=11)\n",
        "    print(f\"Distances : {distances}\")\n",
        "    print(\"\\n\\n\")\n",
        "    # Sorting indices based on distances\n",
        "    sorted_indices = indices[0][np.argsort(distances[0])]\n",
        "    for i in sorted_indices:\n",
        "        print(Sampled_df.iloc[i]['name'])\n",
        "        print(Sampled_df.iloc[i]['URI'])\n",
        "\n",
        "    # Step 1: Identify the Person with the Highest Nearest Neighbor Rank\n",
        "    highest_ranked_person_idx = sorted_indices[-1]  # Get the index of the person with the highest rank\n",
        "    highest_ranked_person_name = Sampled_df.iloc[highest_ranked_person_idx]['name']\n",
        "\n",
        "    # Step 2: Retrieve Wikipedia Content for the Highest Ranked Person\n",
        "    person_page_content = fetch_wikipedia_content(highest_ranked_person_name)\n",
        "\n",
        "    if person_page_content:\n",
        "        # Step 3: Analyze Sentiment for the Highest Ranked Person\n",
        "        text_blob = TextBlob(person_page_content)\n",
        "        polarity = text_blob.sentiment.polarity\n",
        "        emoji = map_sentiment_to_emoji(polarity)  # Map sentiment polarity to emoji\n",
        "        print(f\"{highest_ranked_person_name} overview sentiment {text_blob.sentiment} {emoji}\")\n",
        "\n",
        "        # Step 4: Print Wikipedia Article for the Highest Ranked Person\n",
        "        print(person_page_content)\n",
        "    else:\n",
        "        print(f\"Could not retrieve Wikipedia content for {highest_ranked_person_name}\")\n",
        "\n",
        "    # Step 5: Collect Wikipedia Pages of Nearest Neighbors\n",
        "    nearest_neighbor_pages = []\n",
        "    for i in sorted_indices[:-1]:  # Exclude the highest ranked person\n",
        "        neighbor_name = Sampled_df.iloc[i]['name']\n",
        "        neighbor_page_content = fetch_wikipedia_content(neighbor_name)\n",
        "        if neighbor_page_content:\n",
        "            nearest_neighbor_pages.append((neighbor_name, neighbor_page_content))\n",
        "            # Step 6: Analyze Sentiment for Nearest Neighbors\n",
        "            text_blob = TextBlob(neighbor_page_content)\n",
        "            polarity = text_blob.sentiment.polarity\n",
        "            emoji = map_sentiment_to_emoji(polarity)  # Map sentiment polarity to emoji\n",
        "            print(f\"{neighbor_name} overview sentiment {text_blob.sentiment} {emoji}\")\n",
        "\n",
        "            # Step 7: Print Wikipedia Article for Nearest Neighbors\n",
        "            print(neighbor_page_content)\n",
        "        else:\n",
        "            print(f\"Could not retrieve Wikipedia content for {neighbor_name}\")\n",
        "\n",
        "# Extract a list of names from the DataFrame\n",
        "names = Sampled_df['name'].tolist()\n",
        "\n",
        "# Select 20 random names\n",
        "random_names = Sampled_df['name'].sample(n=20, random_state=42).tolist()\n",
        "\n",
        "# Create a dropdown widget with the random names\n",
        "name_dropdown = widgets.Dropdown(options=random_names, description='Select a name:')\n",
        "\n",
        "# Define a function to handle dropdown value changes\n",
        "def on_dropdown_change(change):\n",
        "    clear_output(wait=True)  # Clear the output without clearing the input cells\n",
        "    sampled_idx = random_names.index(change.new)  # Get the index of the selected name\n",
        "    compute_nearest_documents(sampled_idx)  # Call the function with the selected index\n",
        "\n",
        "# Attach the function to the dropdown's value change event\n",
        "name_dropdown.observe(on_dropdown_change, names='value')\n",
        "\n",
        "# Display the dropdown widget\n",
        "display(name_dropdown)\n"
      ],
      "metadata": {
        "colab": {
          "base_uri": "https://localhost:8080/",
          "height": 1000,
          "referenced_widgets": [
            "adb88f41fd364f2ab97092b24120ec1a",
            "b250d73749604701b900d2f949fc7bdd",
            "6d8bd60d337f4d60901dd90d9c977a5e"
          ]
        },
        "id": "KCnvHyEqNOkS",
        "outputId": "6dc85295-6eb9-4e77-84ef-ea2242f49b3b"
      },
      "execution_count": null,
      "outputs": [
        {
          "output_type": "stream",
          "name": "stdout",
          "text": [
            "Distances : [[0.         1.19041485 1.2031643  1.21811312 1.2309121  1.24422873\n",
            "  1.24578009 1.25271097 1.254712   1.25698337 1.27305932]]\n",
            "\n",
            "\n",
            "\n",
            "Peter Drury\n",
            "<http://dbpedia.org/resource/Peter_Drury>\n",
            "Martin Gillingham\n",
            "<http://dbpedia.org/resource/Martin_Gillingham>\n",
            "Rob Walker (sports announcer)\n",
            "<http://dbpedia.org/resource/Rob_Walker_(sports_announcer)>\n",
            "Ian Crocker (commentator)\n",
            "<http://dbpedia.org/resource/Ian_Crocker_(commentator)>\n",
            "Miles Harrison\n",
            "<http://dbpedia.org/resource/Miles_Harrison>\n",
            "Todd Parnell\n",
            "<http://dbpedia.org/resource/Todd_Parnell>\n",
            "Dickie Davies\n",
            "<http://dbpedia.org/resource/Dickie_Davies>\n",
            "Hosni Zaghdoudi\n",
            "<http://dbpedia.org/resource/Hosni_Zaghdoudi>\n",
            "Philip Sharp (referee)\n",
            "<http://dbpedia.org/resource/Philip_Sharp_(referee)>\n",
            "Chris Waddle\n",
            "<http://dbpedia.org/resource/Chris_Waddle>\n",
            "Ricardo Carvalho\n",
            "<http://dbpedia.org/resource/Ricardo_Carvalho>\n",
            "Ricardo Carvalho overview sentiment Sentiment(polarity=0.1340951774285107, subjectivity=0.36038372871706176) 😐\n",
            "Ricardo Alberto Silveira de Carvalho  (Portuguese pronunciation: [ʁiˈkaɾðu kɐɾˈvaʎu]; born 18 May 1978) is a Portuguese former professional footballer who played as a centre-back.\n",
            "Carvalho began his career at Porto, where he had loan spells at Leça, Vitória de Setúbal and Alverca, before winning domestic and European trophies under José Mourinho's management. In July 2004, Carvalho transferred to Chelsea for a fee of just under €30 million. With the Blues, he won two Premier League titles in a row and one League Cup, in his first two seasons. In 2008, he was voted the team's Players' Player of the Year. Two years later, he helped Chelsea win the league and FA Cup, the first Double in the club's history. In August 2010, after six years with Chelsea, he transferred to Real Madrid for a fee of £6.7 million, winning two domestic honours under Mourinho's management before a free transfer to Monaco in 2013.\n",
            "In international football, Carvalho's national team career began on 11 October 2003 in a friendly match against Albania. He represented Portugal in three UEFA European Championships and two FIFA World Cups, and was a member of the team that won UEFA Euro 2016. He was a regular in Portugal's lineup during Euro 2004, when his country advanced all the way to the final before losing to Greece. At the 2006 World Cup, he played in six matches for Portugal, who finished fourth after reaching the semi-finals.\n",
            "\n",
            "Club career\n",
            "Porto (1997–2004)\n",
            "Ricardo Carvalho was brought to the Porto junior team in the 1996–97 season. In the oncoming season, Carvalho made his professional debut when he signed on loan for Leça. Between 1999 and 2001, he had loan spells at Vitória de Setúbal and Alverca. He returned to Porto in the 2001–02 season, being third choice behind Jorge Costa and Jorge Andrade, but he quickly won a place in the starting XI, forming a terrific partnership with Andrade in the centre of defence, which brought disappointment to captain Jorge Costa who, in April 2002, joined Charlton Athletic on a five-month loan spell. Carvalho made 25 appearances in the Portuguese league that season. In the following season, Jorge Costa returned to Porto and Jorge Andrade moved to Deportivo de La Coruña in Spain. With José Mourinho in charge, Carvalho started the campaign as the third option behind Costa and Pedro Emanuel, but later, his excellent form led him to a place in the first team, appearing in the most important games of the season, including the UEFA cup semi-finals matches against Lazio and the UEFA Cup final where Porto beat Celtic 3–2 in extra time. It was Carvalho's first international trophy. By his great season, he was named Portuguese League Footballer of the Year and Porto Footballer of the Year.\n",
            "It was in the 2003–04 season that Carvalho made his name as a world-class footballer. His solid performances helped the club win the Portuguese league title for the second year in a row, and the most prestigious club trophy in European football, the UEFA Champions League. In this tournament, Carvalho played in all of Porto's matches, including the 3–0 win against Monaco in the final. Subsequently, his great performances merited the UEFA Club Best Defender of the Year award, voted into the UEFA Team of the Year, and was named one of the 50 players shortlisted for the 2004 Ballon d'Or), finishing ninth in the voting, being the only defender in top ten. He was selected for the Portuguese UEFA Euro 2004 squad, in which tournament he was also nominated for the UEFA Euro Team of the Tournament. At the end of the season, Carvalho has been tracked by a host of top European clubs, including Internazionale, Barcelona, Real Madrid and Manchester United. Real Madrid offered €8.2 (£7) million for Carvalho, but Porto warned the Spaniards they would not accept anything less than €23.5 (£20) million for the defender after the Spanish team made a much lower offer. Days later, English club Chelsea offered €30 (£25.5) million for the centre back, which the Portuguese team accepted.\n",
            "\n",
            "Chelsea (2004–2010)\n",
            "At Stamford Bridge, Carvalho, who was considered one of the best centre-backs at Euro 2004, joined his former manager José Mourinho and former teammate Paulo Ferreira on a three-year contract. He signed for a fee of €30 million (£20 million at the time) and performed extremely well in his first season with Chelsea, helping them win the Premier League title, their first top-flight domestic title in 50 years, and the League Cup. He scored his first goal for Chelsea in a 3–1 victory over Norwich City. His partnership with captain John Terry in central defence was hailed as a major factor behind Chelsea's two Premier League titles in a row.\n",
            "\n",
            "The start of 2005–06 season was not as smooth for him, as he was publicly lambasted by Mourinho after making comments about his selection policy. Carvalho said the Chelsea manager's decision to drop him for the first game of the season was \"incomprehensible\", but Mourinho responded, \"Carvalho seems to have problems understanding things, maybe he should have an IQ test,\" and then left him out for next game, against Arsenal, and fined him a reported £85,000. He later returned to favour, though, and was a near-regular in the side from September. On 19 October 2005, he scored his first goal of the season in a 4–0 home win against Real Betis in the UEFA Champions League group stage. Carvalho continued his scoring run in Europe by netting his second goal of the season in Chelsea's 2–0 away victory over Anderlecht on 23 November. In January, in a 1–1 Premier League draw against Charlton Athletic, Carvalho received the first red card of his Chelsea career, after he received his second yellow for what the referee judged to be a tackle from behind on Charlton striker Darren Bent. Later, on 29 April 2006, he scored again a goal, his third of the season, in a 3–0 Premier League victory over Manchester United, finishing off a move he had started on the edge of his own penalty area by smashing the ball into the net, to help Chelsea clinch the title for the second consecutive year.\n",
            "In the 2006–07 season, Carvalho scored again against Manchester United an important goal in a 1–1 draw – a header from a Frank Lampard corner that also bounced off Louis Saha's head. On 7 April, he scored another goal against Tottenham Hotspur, firing a low, 30-yard drive past the reach of Spurs goalkeeper Paul Robinson; as a result Chelsea narrowed the gap on Premier League leaders Manchester United to three points. Just 21 days later, on 28 April, Carvalho injured the medial ligaments of his right leg in a Premier League match against Bolton Wanderers. The injury meant Carvalho missed the second leg of the Champions League semi-final against Liverpool. He also missed the FA Cup final against Manchester United, which Chelsea won after a goal from Didier Drogba during extra time. On 18 May 2007, the day of his 29th birthday, Carvalho signed a five-year contract extension with Chelsea, keeping him at the club through the 2011–12 season. For his great performances during the 2006–07 season, Carvalho has been recognized by a number of organisations. Sky Sports listed him as one of seven candidates for the Premiership's \"Defender of the Year\". He was also one of three Chelsea players nominated for the club's \"Player of the Year\" honour, which was ultimately won by Michael Essien.\n",
            "\n",
            "Carvalho continued his excellent form into the 2007–08 season. Following the departure of manager José Mourinho, the Spanish champions, Real Madrid, have once again expressed their interest in Carvalho. A Madrid source said, \"We have never been able to get Carvalho because of his connection with Mourinho. Now he has left Chelsea, we feel there's a real chance.\" But the Portuguese did not leave the English club. On 26 December 2007, in a 4–4 home draw against Aston Villa, on the 79th minute, the home side were outmanoeuvred in the middle of the field leaving only goalkeeper Petr Čech and Carvalho between Villa's striker, Gabriel Agbonlahor, and the goal, Carvalho attempted the block, went in two-footed and was red carded for the foul, in the same night, he issued a public apology for his horror tackle on the forward. In that season, Carvalho was one of the most consistent performers at the club and his efforts were rewarded when he scored his first goal of the season in his 150th appearance for the club, a 1–0 Premier League victory over Middlesbrough. Later, on 26 April, Carvalho made his 100th appearance in the Premier League against Manchester United, despite Chelsea's 2–1 win, he marred his centenary mark with an error that allowed Wayne Rooney to equalise. His solid performances in the Champions League helped the club reach the final, Chelsea's first ever Champions League final appearance and Carvalho's second. The Blues, however, lost 6–5 on penalties against Manchester United after a 1–1 draw following extra time. Carvalho played in all 120 minutes and he was booked one time for a high challenge on Cristiano Ronaldo right before the end of first half. On 8 May 2008, Carvalho was voted by his fellow Chelsea colleagues as Chelsea's \"Players Player of the Year\", while finishing in the top three for Chelsea's \"Player of the Year\" award voted by Chelsea fans, along with Michael Ballack and Joe Cole.\n",
            "Carvalho opened his account for the 2008–09 season against Manchester City in a 1–3 away victory, on 13 September 2008. He was a somewhat peripheral figure for the rest of the season, as injury, the sacking of Luiz Felipe Scolari, and subsequent appointment of Guus Hiddink meant that he lost his place in the team to Brazilian teammate Alex. He clocked up only 18 appearances in all competitions, two as substitute, scoring one goal.\n",
            "In July 2009, Carvalho told Chelsea he wanted to quit the club to join Internazionale. He said, \"I have had four extraordinary years at Chelsea until this year, which has not been very good - indeed it was the worst of my career.\" He played only 18 times in that season at Chelsea. But a move to Inter to link up with Mourinho collapsed when the Italian club wanted to sign him as a free transfer.\n",
            "The appointment of Carlo Ancelotti, coupled with recovery from injury, saw Carvalho regain his place in the Chelsea team. He made a fine start to the 2009–10 season, scoring a diving header in the 2009 FA Community Shield match against Manchester United, a game in which he also received the Man of the Match award. Chelsea got off to a terrible start conceding inside 10 minutes, but second-half goals from Carvalho and Frank Lampard looked enough to pull the team back from behind to win the trophy, only for Wayne Rooney to clip home an equaliser in stoppage time, forcing penalties. Chelsea went on to win the match 4–1 on penalties, following a 2–2 draw at the end of normal time. On 20 December 2009, Carvalho made his 200th appearance in a 1–1 draw against West Ham United in the Premier League, where the defender was booked just before the half-hour mark for a challenge on Guillermo Franco, before West Ham had their best chance of the opening stages. On 24 March, in a 5–0 win over Portsmouth, Carvalho suffered ankle ligament damage; it seemed serious but it was not necessary a corrective surgery on this injury, leaving the team with just two first-choice central defenders in Alex and captain John Terry, and scaring the Portugal national team head coach, Carlos Queiroz, with the risk of not being able to go to 2010 FIFA World Cup. Due to the injury, Carvalho missed all the following league matches, including the title match victory against Wigan Athletic. It was Carvalho's third Premier League title with the Blues. Six days later, on 15 May, he missed another important match, the 2010 FA Cup final, which they won after a single goal from Didier Drogba. By winning the title, Chelsea secured the first ever Double in the club's history. At the end of the season, on 24 July, The Sun carried reports that Carvalho had expressed his desire to leave Chelsea and link up with former manager José Mourinho, who was now in charge at Real Madrid in Spain.\n",
            "\n",
            "Real Madrid (2010–2013)\n",
            "On 10 August 2010, Real Madrid signed Carvalho for a reported fee of €7.9 (£6.7) million on a two-year contract. He made his debut on 13 August 2010 in a friendly match against Bayern Munich, which Real Madrid won 4–2 on penalties after a 0–0 draw. His La Liga debut came on 29 August, in a 0–0 draw against Mallorca, and, in the following match, against Osasuna, he scored his first Liga goal; Mesut Özil raced to the penalty area and managed to thread a low cross for Cristiano Ronaldo, whose first time shot was blocked by the Osasuna's goalkeeper Ricardo, but the Portuguese managed to tip-toe the rebound for Carvalho to score the go-ahead goal, giving his team a 1–0 home victory. On 19 October 2010, in a UEFA Champions League victory against Milan, Carvalho was named the Man of the match by the Spanish newspaper Marca. Some weeks later, on 7 November, Carvalho proved again to be in good shape in a 2–0 derby victory against Atlético Madrid, where he scored his second goal in La Liga, being named again the man of the match. Next month on day 19, in a 1–0 home victory against Sevilla, Carvalho received his first red card for the club; having already been booked in the first half, he was shown a second yellow following an aerial challenge with Sevilla's Álvaro Negredo in the second half. On 19 February 2011, he scored his third and last season goal against Levante in another 2–0 league victory. Carvalho made 48 appearances in all competitions that season, bringing calmness and solidness to the defence, and was a heavy reason why Real Madrid had the best defense in Champions League, only letting five goals get past their goalkeeper.\n",
            "Carvalho started the 2011–12 season well and remained as first-choice centre-back along with Pepe, until a lower back injury kept him sidelined. He returned to action on 18 January in Real Madrid's 2–1 home defeat to Barcelona, in the Copa del Rey quarter-finals first leg at the Santiago Bernabéu.\n",
            "There was significant speculation about his future with Real Madrid in the 2012–13 season, with manager José Mourinho publicly stating on 29 August 2012 that \"his services were no longer needed\" by the club. However, he opted to stay at the club until the end of his contract.\n",
            "\n",
            "Monaco (2013–2016)\n",
            "On 28 May 2013, Monaco confirmed on their website that they had secured the services of the Portuguese defender from Real Madrid. He moved to the newly promoted Ligue 1 club on a free transfer when his Real Madrid contract expired on 1 July. Carvalho signed a one-year contract with Monaco, with the option of a second year.\n",
            "Carvalho was sent off for two yellow cards on 10 August 2014, as Monaco began their season with a 2–1 defeat at home against Lorient. On 14 April 2015, he fouled Álvaro Morata to concede a penalty which was converted by Arturo Vidal as Monaco lost to Juventus in the first leg of the quarter-finals of the Champions League. In July 2015, he signed a new one-year deal, keeping him at the club until July 2016.\n",
            "On 10 August 2016, it was announced that Monaco had not renewed his contract, ending a three-year spell with the Ligue 1 club.\n",
            "\n",
            "Shanghai SIPG (2017–2018)\n",
            "On 9 January 2017, Carvalho was announcing his engagement by André Villas-Boas's Shanghai SIPG in the Chinese Super League. He officially joined Shanghai SIPG on 15 February 2017.\n",
            "On 6 October 2017, was handed a seven-month suspended prison sentence in Spain for tax fraud.\n",
            "\n",
            "International career\n",
            "Senior team\n",
            "During the 2003–04 season, Carvalho earned his first cap for the Portugal national team on 11 October 2003 in a 5–3 friendly match win over Albania. He established himself as a key member of the national team starting XI during the UEFA Euro 2004 championship on home soil, after replacing captain Fernando Couto in the heart of Portugal's defence following the team's defeat against Greece in the opening group game. In the tournament, he was nominated for the UEFA Euro Team of the Tournament along with his compatriots Maniche, Luís Figo and Cristiano Ronaldo. Carvalho formed a strong partnership with Jorge Andrade in the Portuguese defence as his country reached the final, though they lost 1–0 to Greece in a stunning upset. Carvalho started in all of Portugal's six games in the tournament, including an epic game against England, where the defender was named Carlsberg Man of the Match, and Portugal emerged victorious 6–5 on penalties. BBC Sport football expert Alan Hansen said that Carvalho was, along with Sol Campbell, the best defender at Euro 2004.\n",
            "Carvalho represented Portugal at the 2006 World Cup in Germany, finishing fourth overall. During the quarter-final game against England, referee Horacio Elizondo adjudged Wayne Rooney to have trodden on Carvalho's groin, right in front of him, and the English player was sent off for violent conduct. The English media, however, speculated that teammate Cristiano Ronaldo had influenced Elizondo's decision by aggressively complaining, after which he was seen in replays winking at the Portuguese bench following Rooney’s dismissal. In the following semi-final game against France in Munich on 5 July 2006, Carvalho was whistled for a foul against France's Thierry Henry in the penalty area, resulting in a penalty kick. Zinedine Zidane converted the spot kick to give France a 1–0 win over Portugal. Also in the same game, Carvalho was booked with his second yellow card of the knockout phase, and was forced to miss the third place game against hosts Germany on 8 July in Stuttgart, which ended in a 3–1 defeat. He in played each of his team's other preceding matches throughout the World Cup, as a member of Portugal's central defensive pairing in the team's starting lineup alongside Fernando Meira, and as a result of his performances, he was one of the 23 players nominated for the All Star Team of the tournament.\n",
            "Carvalho was named in the Portuguese squad for Euro 2008. He played in three of Portugal's four matches in the tournament, including the 2–0 win against Turkey and the 3–1 victory over Czech Republic in the group stage and the quarter-finals match where Portugal lost 3–2 to Germany. Two years later, Carvalho was named again in the Portuguese squad for the 2010 World Cup. He formed a partnership with Bruno Alves in the centre of defence, playing in all group stage matches without conceding a goal. This time, Portugal reached the round of 16, where they subsequently lost 1–0 against Spain via a David Villa goal.\n",
            "On 31 August 2011, Carvalho retired from international football after leaving the concentration without talking to his coach and teammates before Portugal's match against Cyprus for a Euro 2012 qualifying match, announcing in a statement carried by state news agency Lusa he had been \"disrespected\".\n",
            "On 3 October 2014, after an absence of more than three years, Carvalho was called up by newly appointed Portugal manager Fernando Santos, for the friendly against France and the Euro 2016 qualifying match against Denmark. On 29 March 2015, in a qualifier against Serbia, he headed the opening goal in a 2–1 home victory, his first international goal for over eight years. At 38, he was the oldest outfield player at the Euro 2016 finals in France. He started in all three of his team's group stages matches, but was dropped from the starting line-up for the knock-out stages of the competition; Portugal went on to win the tournament, defeating the hosts 1–0 in the final in extra time, although Carvalho remained on the bench.\n",
            "\n",
            "International goals\n",
            "Under–21\n",
            "Senior team\n",
            "Style of play\n",
            "Carvalho was always a centre back who stood out in particular for his intelligence, and ability to read the game and time his challenges. He was quick, good in the air and possessed superb technique and good passing ability, which led him to be compared to the legendary Italian defender Franco Baresi. Although he did not possess the physical strength of other defenders, he was known for his tenacity and hard-tackling style of play; in an interview with the Champions League's official magazine, Carvalho said of his playing style and physique:\n",
            "\n",
            "(...) Players who grow in England are different, they are tough, strong. My first year was difficult because I wanted the ball, wanted to play, and the pace here is unbelievable. The players are physically strong, and if they don't play well they kick. It wasn't my game. And every time I jumped with my arm my shoulder would pop out. With time it got weaker. In May 2005 I had an operation, I started to work a bit in the gym, which I'd never done before, and I improved a lot. (...) My body is not as strong as a normal centre-back in England, but I like to play hard and tackle. I love to make crazy tackles, I like to slide on the ground.\n",
            " As such throughout his career, he was often paired with a more physical centre-back, such as his defensive partner at Chelsea, John Terry, whose powerful and aggressive playing style was complemented by Carvalho's mobility, technique, intelligence, speed of thought, and ball–playing ability. Despite not being as tall as most centre-backs (1.83 m), Carvalho was also known for his ability to win aerial duels against larger, more physical opponents, as demonstrated by the three headed goals he scored against Manchester United with Rio Ferdinand (1.91 m) and Nemanja Vidić (1.90 m) in defence. In the same UEFA Champions League's official magazine interview, he stated:\n",
            "(...) At Porto there were taller centre-backs than me, but they were on the bench because I was quicker, I turned quicker. I said to the coach, 'I have to grow a bit.' But he said: 'No, you'll start to get slow to turn, slow to run. You're good, you are there now.' (...) A defender is one thing, football is about defending and playing. Normally, play comes from us defenders so we have to defend, not concede, close down space, be focused on the strikers and after all that try to get a move going. (...)\n",
            "\n",
            "Carvalho's Real Madrid profile described him as \"known for his perfect positioning, his foresight and his ability to advance the ball out of the first third\". At his peak, Carvalho was regarded by several pundits and football figures as one of the best defenders in the world, and is considered to be one of the greatest defenders in the history of the Premier League.\n",
            "\n",
            "Coaching career\n",
            "He was most recently the assistant manager of Andre Villas Boas in French club Marseille.\n",
            "\n",
            "Career statistics\n",
            "Club\n",
            "As of 26 November 2017\n",
            "\n",
            "International\n",
            "As of 22 June 2016\n",
            "\n",
            "Honours\n",
            "Porto\n",
            "\n",
            "Primeira Divisão/Liga: 1998–99, 2002–03, 2003–04\n",
            "Taça de Portugal: 2002–03\n",
            "Supertaça Cândido de Oliveira: 2003\n",
            "UEFA Champions League: 2003–04\n",
            "UEFA Cup: 2002–03\n",
            "Chelsea\n",
            "\n",
            "Premier League: 2004–05, 2005–06, 2009–10\n",
            "FA Cup: 2006–07, 2008–09, 2009–10\n",
            "Football League Cup: 2004–05, 2006–07\n",
            "FA Community Shield: 2005, 2009\n",
            "Real Madrid\n",
            "\n",
            "La Liga: 2011–12\n",
            "Copa del Rey: 2010–11\n",
            "Supercopa de España: 2011–12\n",
            "Portugal\n",
            "\n",
            "UEFA European Championship: 2016\n",
            "Individual\n",
            "\n",
            "UEFA Club Best Defender of the Year: 2003–04\n",
            "UEFA Team of the Year: 2004\n",
            "UEFA Euro Team of the Tournament: Portugal 2004\n",
            "FIFA World Cup All-Star Team: Germany 2006\n",
            "Chelsea Players' Player of the Year: 2008\n",
            "FIFA FIFPro World XI Nominee 2005, 2007, 2008, 2011\n",
            "Orders\n",
            "\n",
            " Medal of Merit, Order of the Immaculate Conception of Vila Viçosa (House of Braganza)\n",
            " Commander of the Order of Merit\n",
            "\n",
            "Footnotes\n",
            "References\n",
            "External links\n",
            "\n",
            "Ricardo Carvalho at National-Football-Teams.com\n",
            "Ricardo Carvalho at Soccerway\n",
            "Ricardo Carvalho at Soccerbase \n",
            "Ricardo Carvalho at BDFutbol\n",
            "Ricardo Carvalho – FIFA competition record (archived)\n",
            "Ricardo Carvalho – UEFA competition record (archived)\n",
            "Peter Drury overview sentiment Sentiment(polarity=0.10460035133948177, subjectivity=0.40917874396135273) 😐\n",
            "Peter Donald Drury (born 24 September 1967) is a British sports commentator who currently works for Sky Sports and NBC Sports in the United States as the lead commentator for its Premier League and EFL Cup coverages.\n",
            "Drury was formerly with ITV Sport as its second-choice football commentator, a role he had held from 1998 to 2013. He went on to freelance for Premier League Productions on its international coverage of the Premier League until May 2022 but still does occasional commentaries for them. Drury previously freelanced for CBS Sports (US) on its English-language coverage of UEFA Champions League and the Europa League from 2020 to 2022, with Pitch International for the English-language world feed of the EFL Cup through 2022, with  Amazon Prime Video for its Premier League coverage in the United Kingdom through the 2022–23 season, with BT Sport on coverage of the UEFA Europa League and UEFA Europa Conference League through the 2022–23 season, for Gravity Media for the English-language world feed of the UEFA Europa League Final in 2023, and  for Host Broadcast Services (HBS) for the English-language world feed of the men's FIFA World Cup in 2014, 2018 and 2022.\n",
            "\n",
            "Early life\n",
            "Peter Donald Drury was born on 24 September 1967 in Braintree, Essex, England. His father was a Church of England vicar based in Kent. The first club he supported as a four-year-old was West Ham United, but he has since gone on to support different clubs, most notably Watford as he now lives in Hertfordshire. He went to St John's School, Leatherhead in Surrey. While growing up, Drury's commentary idol was BBC Radio's Peter Jones, who Drury describes as having a \"beautiful, authoritative, and poetic voice\". When he was 18 and he used to see Hull City matches, he was usually the first man at Boothferry Park a couple of hours before the other spectators came flooding in. He worked as an accountant for a period of one month after graduating from university. Before joining BBC Radio Leeds, he worked for sports journalism agency Hayter's.\n",
            "\n",
            "Career\n",
            "Beginnings with BBC Radio (1990–98)\n",
            "In March 1990, Drury got a job with BBC Radio Leeds and he was there at a time when Leeds were champions of the Football League First Division in the 1991–92 season. His early works with Radio Leeds included matches involving Halifax Town, Bradford City and Huddersfield Town. He also commentated on both legs of Leeds United's UEFA Champions League first round tie with VfB Stuttgart in September 1992, in which after coming back from a 3–0 first-leg deficit to win 4–1, he remarked that their fans were 'proud as punch' of Howard Wilkinson's team and they were to be eliminated on away goals, but it went into a play-off which they won 2–1 on 9 October. He soon moved to Five Live following its launch on 28 March 1994. His credits include the 1996 UEFA Champions League Final (alongside future ITV colleague Jon Champion) and UEFA Euro 96, where he covered Group D matches involving Portugal and Turkey. In 1997, he also commentated on The Open Championship and the Ryder Cup with 5 Live.\n",
            "\n",
            "Televised commentary (1997–present)\n",
            "Drury later moved on to Broadcasting House in London at the start of 1997–98 season where he covered matches for Match of the Day including Sheffield Wednesday vs Everton on Saturday 4 October 1997 at Hillsborough Stadium.\n",
            "He then joined ITV in February 1998 and his first match for the network was a replay of an FA Cup sixth round tie between Sheffield United and Coventry City on 17 March. After finishing 1–1 in both the original and replay matches, the Blades came out victorious, winning 3–1 on penalties. He was immediately selected to be part of the commentary team as their junior correspondent for the 1998 FIFA World Cup in France, replacing John Helm. During his 15 years with ITV, Drury commentated on four World Cups (1998–2010) and four European Championship tournaments (2000–2012). He also commentated on the UEFA Champions League, UEFA Cup / Europa League, ITV's 'The Premiership' (coverage of the English Premier League between 2001 and 2004) and the This is Football video game series, starting with 2 (2000). Other than football, he commentated on The Boat Race and Grand Slam of Darts, as well as snooker tournaments such as the short-lived Nations Cup and the inaugural Power Snooker tournament in 2010.\n",
            "Drury commentated on the 2014 FIFA World Cup final match between Germany and Argentina on 13 July 2014 at the Maracanã Stadium. In 2013, he joined BT Sport for their coverage of the Premier League, FA Cup, UEFA Champions League and UEFA Europa League. In 2015, Drury replaced Jon Champion as the primary commentator in the Pro Evolution Soccer video game series, starting with Pro Evolution Soccer 2016, having also narrated Sony's This Is Football series earlier. During the 2014 FIFA World Cup and the 2018 FIFA World Cup, he commentated on matches for FIFA's international feed and its YouTube channel, including the final between France and Croatia. He has covered most of the Premier League matches alongside co-commentator Jim Beglin, whom he has worked with since 1995 including his early work with 5 live. Drury insists that viewers normally tune in to watch the match and not because of both of them. He signed with SuperSport in 2019. Drury joined CBS Sports (USA) for its UEFA Champions League and UEFA Europa League coverage in August 2020, as the second-choice play-by-play commentator (behind former ITV colleague Clive Tyldesley).\n",
            "On 31 May 2022, following the conclusion of the 2021–22 season, Drury announced that he had left Premier League Productions, but he would continue to commentate on the Premier League into next season after joining NBC Sports, replacing Arlo White (who was then signed by LIV Golf) as their lead play-by-play commentator. His position was confirmed on 6 July 2022.\n",
            "On 18 June 2023, it was announced that Drury would join Sky Sports, doing one game a week on Sunday, Monday, or midweek. He will continue calling games for NBC Sports for Saturday 12:30 p.m. ET games.\n",
            "\n",
            "Style\n",
            "Drury has been famed for his expressive and literary style of commentary. He is known for his poetic style of commentary, often using phrases such as \"in a trice\" instead of common language.\n",
            "\n",
            "References\n",
            "External links\n",
            "Peter Drury \"Ask Me Anything\" interview on Reddit (2023)\n",
            "Peter Drury at IMDb\n",
            "Martin Gillingham overview sentiment Sentiment(polarity=0.15577922077922077, subjectivity=0.32134920634920633) 😐\n",
            "Martin Gillingham (born 9 September 1963, in Leicester) is an English sports commentator and journalist. He commentates on rugby union for various broadcasters including Sky Sports, BT Sport, ITV, SuperSport, and Setanta Ireland, and on athletics for Eurosport.\n",
            "He was educated at the Royal Grammar School, High Wycombe, later dropped out of Harvard University in the United States, before going to Carnegie College in Leeds.\n",
            "In 1984, he won the AAA 400m hurdles title and was selected for the Olympic Games in Los Angeles. Three years later he competed in the same event at the IAAF World Championships in Rome. His best time was 49.82sec which he set in finishing third behind Edwin Moses and Kriss Akabusi in a Grand Prix meeting at Crystal Palace, London in July 1987.\n",
            "In 1992, he moved to South Africa to be the athletics and Olympics correspondent for the Johannesburg Sunday Times. He later became a talkshow host on radio station Capetalk in Cape Town.\n",
            "In 2003, he returned to England after which he worked for five years on BBC Radio Five Live presenting sports bulletins and reporting on rugby matches and had a brief stint as a presenter on Talksport. He is now heard as a rugby commentator on the Heineken Cup and the United Rugby Championship on ViaPlay. He was also a member of ITV's commentary team at numerous Rugby World Cups.\n",
            "Martin is regarded as an expert on French rugby having worked for three seasons as lead commentator on ESPN's coverage of the Top 14 until they lost the rights at the end of the 2011/12 season. During the 2012/13 season his Top 14 commentary was heard on channels around the world including on Setanta Ireland, Premier Sports in the UK and SuperSport in Africa. The UK rights to French rugby moved to Sky Sports where Martin now commentates on the Top 14 matches.\n",
            "On the 13th of July 2023, Martin was awarded a Ray Liotta by James O'Brien during LBC's mystery hour.\n",
            "\n",
            "References\n",
            "\n",
            "\"Who's Who\". atschool.eduweb. Archived from the original on 2 October 2008. Retrieved 24 June 2012.\n",
            "Rob Walker (sports announcer) overview sentiment Sentiment(polarity=0.07015036730945821, subjectivity=0.2063131313131313) 😐\n",
            "Robert Joseph Walker (born 13 March 1975 in Oxford, Oxfordshire) is a British sports commentator, television presenter and freelance reporter, who has covered sports including tennis, snooker, darts, boxing, football, sailing, and athletics for the BBC, Channel 4, ITV, Setanta Sports and the IAAF.\n",
            "\n",
            "Biography\n",
            "Walker was born in 1975 and was educated at Abingdon School and University of Exeter. Since 2008 he has appeared in the role of master of ceremonies at major televised snooker tournaments, including the World Snooker Championship, where he uses the catchphrase \"Let's get the boys on the baize\". He has also presented a highlights show at the World Championship for the last two years called Snooker on the Red, featuring on the BBC Red Button and has been host of the  Global Snooker Awards.\n",
            "Walker is credited with coining nicknames for several leading snooker players to use in his introductions.  Among these are The Magician for Shaun Murphy, The Force for Peter Ebdon and The Thunder from Down Under for Neil Robertson. He is also the commentator at the Action For Kids City Beach & Sitting Volleyball Championships.\n",
            "Alongside this role on the BBC he has presented sailing for the BBC at the Olympic Games in 2008 in Beijing and 2012 in London, he has commentated on biathlon, ski jumping, and cross-country skiing for the BBC at the Winter Olympics in Vancouver in 2010 and Sochi in 2014. He has reported on the London Marathon and Great North Run every year from 2009 to 2012 and from 2013 has commentated on the races for the BBC Red Button and BBC website. He has presented the Winmau World Masters in 2009 and reported at every BDO World Darts Championship from the Lakeside Country Club since 2010 alongside Colin Murray while presenting Darts Extra during the night. In the 2010 FIFA World Cup he travelled around South Africa for the BBC reporting with his namesake Dan Walker on the BBC Bus. Since 2013 he has also been the voiceover on BBC One's gameshow A Question of Sport.\n",
            "In 2011, he joined the athletics team on Channel 4 which included the Indoor European Championships and World Championships alongside John Rawling, Iwan Thomas, Dean Macey, Katherine Merry, and Michael Johnson. He continued to work for Channel 4 in August/September 2012 when Walker began commentating on the athletics events at the 2012 Summer Paralympics for Channel 4 alongside Rawling, Danny Crates and Katherine Merry. He also commentated on Biathlon and Cross Country Skiing for Channel 4's Winter Paralympic Coverage.\n",
            "He also worked for ITV for a brief time reporting on the Boat Race when they held the rights (these have since reverted to the BBC) and boxing, where he was a reporter on the Big Fight Live on ITV4: this coverage has also moved, to Channel 5. He also hosted parts of the 2015 Snooker World Grand Prix coverage on ITV4.\n",
            "In 2018, he presented the Bowls: Scottish International Open for BBC Sport Scotland broadcast on BBC Two Scotland.\n",
            "\n",
            "See also\n",
            "List of Old Abingdonians\n",
            "\n",
            "References\n",
            "External links\n",
            "Rob Walker at IMDb\n",
            "Official website\n",
            "Ian Crocker (commentator) overview sentiment Sentiment(polarity=0.040317234848484845, subjectivity=0.2586538461538461) 😐\n",
            "Ian Crocker (born 1965) is a football commentator who works for Sky Sports.\n",
            "Crocker grew up in the small village of Sutton Poyntz near Weymouth in Dorset and attended Broadway Secondary School.\n",
            "Prior to his television career, Crocker commentated for Capital Gold in London, alongside Jonathan Pearce and Steve Wilson (who are both now BBC commentators).  He then spent several years with BRMB in Birmingham commentating on Aston Villa and Birmingham City. During this period, Crocker began providing occasional commentaries for BSkyB. He covered some live Premier League matches during Sky's first season of coverage 1992/93, before joining permanently in 1997.\n",
            "After joining Sky, Crocker commentated regularly on Premier League matches, but was best known for his four years (1998–2002) as the voice of Scottish football, covering live matches from the Scottish Premier League, Scottish Cup and Scottish internationals. After Sky lost the rights to the SPL, Crocker became Sky's chief football league commentator between 2002 and 2006.\n",
            "Although being given occasional live Premier League matches between 2005 and 2006, Crocker was clearly behind the Sky \"Big Four\" of Martin Tyler, Rob Hawthorne, Alan Parry and Ian Darke in the commentating pecking order. As a result, Crocker left Sky to progress his career with Setanta Sports, working for them during the following three years. Crocker was Setanta's lead commentator on the SPL, and also shared commentating duties with Jon Champion on Setanta's 46 'live' Premier League games.\n",
            "Setanta went into administration in June 2009 and the UK side of their broadcasting operations was wound up soon after. Crocker went freelance and spent the next season (2009–2010) working for a variety of different outlets. Setanta's sports rights were carved up, with some of the SPL matches returning to Sky, and Crocker was contracted to be Sky's SPL commentator again, seven years after he had previously fulfilled the role. Crocker also worked on UEFA Champions League matches for STV who produced their own in-house coverage, with separate commentary and presentation, of the same matches shown on ITV1. Crocker was also contracted to work for ITV1 on their FA Cup Highlights shows, as well as being heard by an international audience commentating on Premier League matches for Premier League Productions.\n",
            "Crocker travelled to South Africa for the 2010 World Cup where he was ITV's fourth commentator, covering two matches live and several other matches for their highlights shows, including Switzerland's defeat of Spain, and Portugal's 7–0 victory over North Korea.\n",
            "In September 2010, it was announced that Ian Darke was leaving Sky Sports to join ESPN America as their leading football commentator. Crocker was subsequently re-signed by Sky Sports on a permanent basis as an integral part of their football commentating line-up. Crocker commentates frequently for Sky Sports coverage of Scottish football.\n",
            "\n",
            "\n",
            "== References ==\n",
            "Miles Harrison overview sentiment Sentiment(polarity=0.07837752525252525, subjectivity=0.29263063325563327) 😐\n",
            "Miles Harrison is a rugby union commentator for British television and radio networks Sky Sports, ITV, Channel 4, Prime Video and talkSPORT. \n",
            "After obtaining a degree in Politics and Economic History from the University of York and a post-graduate qualification in Radio Journalism from City University London, he worked for the BBC in York and Leeds. In the early 1990s, he moved to BBC Radio Sport, commentating on rugby union, football and cricket. He was also part of the commentary team for BBC Radio's coverage of the Wimbledon tennis tournament each summer and was a regular presenter of the sports news on Today (BBC Radio 4). \n",
            "In 1994, when Sky Sports secured the rights to live club rugby, Harrison was invited to be the lead commentator for their rugby union coverage. This has included seven British and Irish Lions tours, England internationals (both at home and abroad), plus Champions Cup rugby and numerous domestic club competitions. \n",
            "Harrison has worked for ITV Sport on the Rugby World Cup since 2007. At the 2015 Rugby World Cup in England, Harrison combined this with working for World Feed television and radio coverage: his commentary on the Final was part of the biggest-ever television worldwide audience for rugby. He commentated for ITV Sport at the 2019 Rugby World Cup in Japan and did so again for the 2023 Rugby World Cup in France.\n",
            "For the 2011 Rugby World Cup, Harrison worked for Sky Television in New Zealand as a commentator, expert and presenter.\n",
            "Since 2016, Harrison has been a commentator on ITV Sport's coverage of the Six Nations Championship. Between 2018 and 2022, he led commentary for Channel 4's coverage of international and domestic rugby. From 2022, he has been part of the Prime Video team for their coverage of international rugby.\n",
            "Harrison’s voice has been heard on every Champions Cup final since the competition began; notably for Sky Sports, Channel 4 and ITV Sport.\n",
            "Since 2022, he has been the lead commentator for ITV Sport’s coverage of Premiership Rugby in England and the Champions Cup.\n",
            "He has also worked for talkSPORT as a presenter, fronting the radio station's coverage of the 1999 Rugby World Cup and 2003 Rugby World Cup, and as a commentator for international rugby.\n",
            "Harrison was named the 2007 Guinness Rugby Union Journalist of the Season. In 1997, he commentated on Sky's BAFTA award-winning rugby union coverage; he was also the commentator on ITV Sport's BAFTA-nominated rugby union coverage in 2007 and 2017.\n",
            "Harrison provided the commentary for HB Studios Rugby World Cup 2011 (video game) and subsequent productions, having previously voiced other video games.\n",
            "In print, Harrison has written two books for Aurum Press: Best Seat in the House – the story of the 1997 British Lions tour to South Africa and Grand Slam – a history of the Five Nations Championship. He has also ghosted the autobiography of Welsh rugby legend JPR Williams Given the Breaks.\n",
            "\n",
            "\n",
            "== Notes ==\n",
            "Todd Parnell overview sentiment Sentiment(polarity=0.041666666666666664, subjectivity=0.13425925925925924) 😐\n",
            "Ben \"Todd\" Parnell III is retired president of Drury University in Springfield, Missouri, co-founder and the retired CEO of THE BANK in Springfield, a community activist, an environmental advocate, an author, and keynote speaker. Parnell was sworn in as interim president at a faculty/staff meeting in Clara Thompson Hall on April 23, 2007, upon the resignation of John Sellars, Drury's fifteenth president. After a number of options were considered for the office, Parnell was formally inaugurated as Drury University's sixteenth president on April 20, 2008, by Drury's trustee-driven search committee. Parnell retired in 2013, serving his last day as president on May 31, 2013.\n",
            "Parnell graduated from Drury University in 1969 with a bachelor's degree in business and economics. He then went on to earn an MBA from the Tuck School of Business at Dartmouth College in 1971. He later received a Masters in history from Missouri State University in 2010.\n",
            "Prior to his position as president of The Signature Bank, Parnell was president of Truman Bank and executive vice president of First National Bank, both located in Clayton, Missouri. Parnell has served as the Board Chairman of the Springfield, Missouri, Area Chamber of Commerce, member of the Springfield-Branson National Airport board, Board Chairman of the Community Foundation of the Ozarks, member of the Rotary Club of Southeast Springfield, treasurer of the James River Basin Partnership, treasurer of the Upper White River Basin Foundation, and board member for Missouri Bankers Association and Wonders of Wildlife.\n",
            "His father was Ben Parnell Jr. Ben was founder and President of People's Bank, now Ozark Mountain Bank, in Branson, MO.\n",
            "Parnell is the author of Postcards from Branson: A Century of Family Reminiscence. Parnell has also authored two other books: \"The Buffalo, Ben, and Me\" and \"Mom at War.\" Parnell was inducted into the Missouri Writer's Hall of Fame in 2012. Parnell's book series \"A Skunk Creek Trilogy\" debuted with the first installment in September 2015, titled \"Skunk Creek: An Ozarkian FolkTale.\"\n",
            "\n",
            "References\n",
            "External links\n",
            "Official website\n",
            "Dickie Davies overview sentiment Sentiment(polarity=0.06750000000000003, subjectivity=0.30833333333333335) 😐\n",
            "Richard John Davies (30 April 1928 – 19 February 2023) was a British television sports presenter who anchored World of Sport from 1968 until 1985.\n",
            "\n",
            "Early life\n",
            "Davies attended Oldershaw Grammar School in Wallasey after passing his eleven-plus; he then did National Service in the Royal Air Force, and worked as a purser on the RMS Queen Mary and RMS Queen Elizabeth ocean liners.\n",
            "\n",
            "Career\n",
            "His first job in broadcasting was as an announcer for Southern Television. In the early stages of his career, Davies was known by his full name, Richard Davies, but changed to Dickie Davies at the suggestion of his ITV Sport colleague Jimmy Hill. Davies began work on World of Sport (initially called Wide World of Sports) in 1965 as an understudy to Eamonn Andrews, who was paid £40,000 by ITV to present it (about £825,250 at 2022 prices)—taking over the role of presenter in 1968 when Andrews left the show.\n",
            "After World of Sport ended in 1985, Davies stayed with ITV, presenting boxing, darts, and snooker, as well as playing a part in their coverage of the 1988 Seoul Olympics. He left ITV Sport in August 1989.\n",
            "After leaving ITV, Davies joined the original incarnation of Eurosport, which was then owned by Sky, and the European Broadcasting Union. He fronted their snooker coverage, including the one-off 1991 Mita World Masters. He presented sports bulletins from his home for Classic FM in its early days as its inaugural sports editor.\n",
            "In 1995, Davies suffered a stroke, which forced him to give up his work on Classic FM. He eventually made a good recovery, although it was a year or two before his speech fully returned to normal. In the late 1990s, he fronted Dickie Davies' Sporting Heroes.\n",
            "\n",
            "Personal life and death\n",
            "Davies married Liz Hastings, a vision mixer at Southern Television, in 1962. They had twin sons.\n",
            "Davies died on 19 February 2023, at the age of 94.\n",
            "\n",
            "In popular culture\n",
            "Davies is mentioned in the song \"Dickie Davies Eyes\" by Half Man Half Biscuit.\n",
            "Davies made a cameo appearance at a racetrack in an episode of Budgie from 1972 (\"The Outside Man\"), and in a series 3 episode of Mind Your Language (\"Guilty or Not Guilty\").\n",
            "\n",
            "References\n",
            "External links\n",
            "Dickie Davies at IMDb\n",
            "Could not retrieve Wikipedia content for Hosni Zaghdoudi\n",
            "Philip Sharp (referee) overview sentiment Sentiment(polarity=0.008333333333333331, subjectivity=0.5169047619047619) 😐\n",
            "Philip Sharp (born 5 April 1964) is a former English Premier League assistant referee and one of only 10 match officials from the United Kingdom to have officiated in a FIFA World Cup Final.\n",
            "\n",
            "Career\n",
            "Sharp first played football for Livingstone School but became a referee via the Duke of Edinburgh's Award Scheme in order to fulfil the Service in the Community component of the course. He gained his apprenticeship through the Hertfordshire County League before gaining promotion onto the Southern Football League middle from where he was promoted to Panel Referee for two seasons before being promoted as an Assistant Referee to the Football League and, finally, the Premier League. He was selected to run the line at the 1999 FA Cup Final. Sharp currently referees on the national Contributory List of match referees.\n",
            "Sharp was promoted to the FIFA list of match officials on 1 January 1997. His progression, internationally, was exceptional being appointed to hold the flag in the opening game of his first senior tournament, the year 2000 European Championship and the semi-final of that tournament. In the 2002 FIFA World Cup Sharp was appointed to five games in total, including the Croatia v Italy match and the final between Germany and Brazil. As such he was England's second successive match official at a Final match, Mark Warren having been the Assistant Referee at the 1998 FIFA World Cup Final.\n",
            "Phil Sharp was selected to represent Great Britain at the 2004 Olympic Games football tournament and represented England at the 2006 FIFA World Cup in Germany.\n",
            "On 18 October 2008, Sharp was hit by an object thrown from the crowd in the game between Aston Villa and Portsmouth FC. It resulted in a cut to his face, although he was eventually fit to continue till the end of the game. The police subsequently arrested a man from Birmingham and charged him with battery.\n",
            "He now works for the Hertfordshire FA as the Referee Development Officer.\n",
            "In 2010 he started instructing as an Assistant Referee Coach and invited to Turkey, Cyprus, Scotland, Wales and Northern Ireland to help develop their Assistant Referees. For the Uefa 2014 Euro Tournament in Poland/Ukraine, he was the specialist Assistant Referee Coach to prepare the Assistant Referees before and during the Tournament. In 2018, he was also requested to do the same again for the European Championships in France\n",
            "\n",
            "\n",
            "== References ==\n",
            "Chris Waddle overview sentiment Sentiment(polarity=0.1000447411061937, subjectivity=0.34522256142367863) 😐\n",
            "Christopher Roland Waddle (born 14 December 1960) is an English former professional football player and manager. He had a spell as Burnley manager during the 1997–98 season, but has not returned to coaching since. Largely since retiring he has worked in the media for BBC Radio 5 Live as part of their Premier League and Champions League team. He currently works as a commentator.\n",
            "Nicknamed \"Magic Chris\", football journalist Luke Ginnell wrote that Waddle was \"widely acknowledged as one of the finest attacking midfielders in Europe\". During his professional career, which lasted from 1978 to 1998, he played for several clubs, including Newcastle United, Tottenham Hotspur, Olympique de Marseille and Sheffield Wednesday. In 1989, his transfer from Tottenham to Marseille for £4.5 million made him the third most valuable player in the world, and he won three successive Ligue 1 titles with the club and played in the 1991 European Cup Final. While playing for Wednesday in the Premier League he was voted FWA Footballer of the Year for his performances in the 1992-93 season. He also played in the Premier League for Sunderland, in the Scottish Premiership with Falkirk and in the Football League for Bradford City, Burnley and Torquay United. He finished his career in non-League football with Worksop Town, Glapwell and Stocksbridge Park Steels, later whilst in his fifties, he continued to play at semi-professional level for Northern Counties East League side Hallam. \n",
            "Waddle earned 62 caps for England between 1985 and 1991, which included being a member of the teams which reached the quarter-finals of the 1986 FIFA World Cup and the semi-finals of the 1990 World Cup. He also played for England at UEFA Euro 1988.\n",
            "\n",
            "Club career\n",
            "Early career\n",
            "Waddle began his footballing career with Pelaw Juniors, moving on to Whitehouse SC, Mount Pleasant SC, HMH Printing, Pelaw SC, Leam Lane SC and Clarke Chapman before joining Tow Law Town before the start of the 1978–79 season.\n",
            "\n",
            "Newcastle United\n",
            "While working in food processing (a seasoning factory), Waddle had unsuccessful trials with Sunderland and Coventry City. He joined Newcastle United as a 19-year-old in July 1980 for £1,000.\n",
            "He made his Second Division debut for them in a 1–0 home win over Shrewsbury Town on 22 October 1980 and quickly established himself as an effective attacking midfielder, playing alongside Kevin Keegan and Peter Beardsley as Newcastle won promotion to the First Division at the end of 1983–84 season.\n",
            "In one of his first games in the top flight, against Queen's Park Rangers at Loftus Road on 22 September 1984, Waddle scored a first half hat-trick for Newcastle, who had a 4–0 lead at half time. However, a fight back by QPR saw the game end 5–5.\n",
            "\n",
            "Tottenham Hotspur\n",
            "After 46 goals in 170 league games for Newcastle, Waddle joined Tottenham Hotspur on 1 July 1985 for a fee of £590,000 (decided by a transfer tribunal). He scored twice on his league debut, a 4–0 home win over Watford on the opening day of the league season, although Spurs had a disappointing season where they finished tenth a year after finishing third, resulting in the dismissal of Peter Shreeves as manager and the appointment of David Pleat from Luton Town as his successor.\n",
            "He won an FA Cup runners-up medal in 1987 when Spurs were beaten by Coventry, while they also finished third in the League and got to the semi-finals of the League Cup.\n",
            "\n",
            "Marseille\n",
            "On 1 July 1989, after scoring 33 times in 138 league appearances for Tottenham, Waddle moved to French club Olympique de Marseille for a fee of £4.5 million; the third highest sum ever paid for a footballer at the time. During his time in France the club were French champions three times (1990, 1991 and 1992). They were also on the losing side to Red Star Belgrade in the 1991 European Cup Final. In 1991–92, he also played alongside fellow England midfielder Trevor Steven, who spent a year in France after signing from Rangers, only to return to Scotland after a single season there.\n",
            "During his years at Marseille, the fans gave him the nickname \"Magic Chris\". He was known as the successor to former Marseille player Roger Magnusson. Waddle was also voted second best OM player of the century behind Jean Pierre Papin for the club's century anniversary in 1998.  Waddle and Marseille reached the 1991 European Cup Final. Although he did not take a penalty, Waddle ended up on the losing side in a penalty shoot-out once again, after the game had ended 0–0 in normal time.\n",
            "\n",
            "Sheffield Wednesday\n",
            "Waddle returned to England in July 1992 in a £1 million move to Sheffield Wednesday, then managed by Trevor Francis. The club reached both domestic cup finals in the 1992–93 season (losing both to Arsenal – Waddle scored Wednesday's goal in the FA Cup final replay) and Waddle was voted the Football Writers' Association Footballer of the Year in 1993.\n",
            "He helped Wednesday reach the semi-finals of the League Cup in the 1993–94 season, but this latest attempt at winning silverware was foiled by Manchester United, and the next two seasons brought bottom-half finishes in the league for Wednesday. Waddle's past also came back to haunt him in Wednesday's exit from the 1995 FA Cup, when a tie against Wolverhampton Wanderers was decided on a penalty shoot out, Waddle again missing an attempt. Francis was axed in 1995 and Waddle's former Tottenham manager David Pleat took over.\n",
            "In January 1996, Kevin Keegan attempted to re-sign Waddle for Newcastle United as cover for David Ginola during a suspension, but Keegan's £500,000 bid to re-sign the player who had played alongside him in the Newcastle team more than a decade earlier was rejected and Keegan was unwilling to meet manager David Pleat's £1million asking price for the 35-year-old. Around this time, Celtic, Leeds United and Sunderland were also interested in signing Waddle, but none of these transfers ever happened. Burnley also expressed an interest in appointing him as their player-manager – a role he would finally take the following year – but Waddle saw out the season at Hillsborough.\n",
            "Waddle's later career at Hillsborough was marred by injuries and he was released 5 games into the 1996–97 season (when the Owls were top of the premiership and having taken young sensation Ritchie Humphreys – 4 goals in 5 games – under his wing) after being frozen out of the team by David Pleat, having played 109 games and scored 10 goals with many more assists.\n",
            "\n",
            "Falkirk and Bradford City\n",
            "Waddle joined Falkirk, in the Scottish First Division, in September 1996, but returned south of the border to play for Division One strugglers Bradford City the following month. Although short, his time at City was a success and he was a firm fans favourite. In a match away to Huddersfield Town he scored direct from a corner in a 3–3 draw live on TV. He also scored a goal in a 3-2 FA Cup win against Everton at Goodison Park which came second in the February 1997 Match of the Day Goal of the Month. His efforts with Bradford contributed to their survival in Division One, although he did not complete the season there.\n",
            "\n",
            "Sunderland\n",
            "Waddle moved to Sunderland, the side he had supported as a boy, for a nominal fee of £75,000 in March 1997, but could not help Sunderland from being relegated from the Premier League at the end of the season, despite scoring once against Everton and providing the assist for all other Sunderland goals scored in that period.\n",
            "\n",
            "Burnley\n",
            "In May 1997 Waddle was appointed player-manager of Burnley, moving from Roker Park on a free transfer. Burnley had a disappointing season, only just avoiding relegation at the end of the season. He scored once during his spell at Burnley, the goal coming in a 2–2 draw with AFC Bournemouth in October 1997.\n",
            "\n",
            "Torquay United\n",
            "Waddle left Burnley in the summer, and in September 1998 joined Torquay United. He played just 7 times for Torquay, before returning to Sheffield Wednesday as a coach. He was appointed reserve team coach in July 1999, and played for a local pub side, but left in June 2000 on the appointment of Paul Jewell as manager, just after the club (now blighted by financial problems) suffered relegation from the Premier League.\n",
            "\n",
            "Non-League career\n",
            "Following his departure from Torquay United, Waddle enjoyed two seasons with non-League Worksop Town making 60 appearances and scoring 3 goals. His most notable appearance was in a 12–0 Northern Premier League record win against Frickley Athletic. He also had a brief spell with Glapwell and one appearance for Stocksbridge Park Steels in the Northern Premier League First Division, continuing his playing career at non-League level into his early forties. Waddle later played regularly for Brunsmeer Athletic in the Meadowhall Sheffield & District Sunday Football League.\n",
            "\n",
            "Hallam\n",
            "Having played at amateur level in the Sheffield Wragg Over-40s league for Hallam during 2012–13 season he came out of retirement after 11 years on the sidelines and signed for Sheffield based non-League side Hallam in the Counties East League (tier 10 of the pyramid) on 22 July 2013. He made his debut against Chesterfield in a pre-season friendly, coming on as a substitute at half time. The game ended in a 6–2 defeat for Hallam FC. Waddle signed a one-year deal on 1 August 2013, committing to Hallam for the 2013–14 season promotion push while remaining part of the ESPN commentary team. He later rejoined in 2023.\n",
            "\n",
            "International career\n",
            "Despite being in his 25th year, he was called up for the England Under-21 side and made his full squad debut against Ireland in March 1985.\n",
            "On 26 March 1985, when still a Newcastle player, Waddle was capped at senior level by Bobby Robson's England for the first time in a 2–1 win over Republic of Ireland. He soon became a regular member of the England squad and on 16 October that year he scored his first England goal, on his tenth international appearance, in a 5–0 win over Turkey.\n",
            "Waddle was in England's squad at the 1986 and 1990 FIFA World Cup as well as UEFA Euro 1988. Although England were eliminated at the group stages of Euro 88 after losing all three games, they did reach the quarter-finals of the 1986 World Cup and the semi-finals in 1990. Waddle had an eventful match in the semi-final against West Germany, which ended in defeat on a penalty shootout. Waddle hit the post with a shot in extra time, which could have been the winning goal, but then missed the decisive penalty in the shootout defeat as he put it inches over the bar. He says he only took the fifth penalty because Paul Gascoigne, who had been suspended from playing in the next game if England progressed, was too upset to take it. He subsequently blamed a chance meeting with Uri Geller and Michael Jackson prior to the tournament for missing his penalty. Waddle's performances in the 1990 World Cup were described as \"superb\" by Rob Bagchi, writing for The Guardian in 2010.\n",
            "He won the last of his 62 England caps on 16 October 1991 in a 1–0 win over Turkey, more than six years after making his international debut, and having rarely missed an England game since then. He had scored six goals for England, the last against Scotland on 27 May 1989.\n",
            "Waddle had fallen out of favour under coach Graham Taylor, but after a poor run of results for the national team, when Terry Venables became the new England manager at the beginning of 1994, he was keen to include Waddle in the squad for his first game against Denmark. However, Waddle was injured at the time and unavailable for selection.\n",
            "\n",
            "Media career\n",
            "In 1987, Waddle recorded the song \"Diamond Lights\" in a duet with Spurs and England teammate Glenn Hoddle. The song reached number 12 in the UK Singles Chart in May of that year and the pair appeared on Top Of The Pops. Whilst at Marseille he joined teammate Basile Boli in recording a song entitled We've Got a Feeling.\n",
            "Despite spending the 1997–98 season as a manager, Waddle never returned to the coaching side of the game following his retirement and became a TV football pundit, commentator and sports newspaper writer. He previously worked for Setanta Sports and ESPN, he currently works as an analyst for BBC Radio Five Live's Premier League football coverage.\n",
            "Waddle appeared on BBC Radio 5 Live as a summariser at Premier League matches and also writes a column in The Sun newspaper. Waddle signed a deal with Setanta Sports to commentate on all England away matches in 2008–09. Waddle then went on to co-commentate for ESPN's English Premier League football coverage and is a pundit on Showsports Arabia, covering the English Premier League, from the studio in Dubai, UAE.\n",
            "In 2003, Thierry Henry named Waddle in his all-time Dream Team Line up. Following England's heavy defeat to Germany in the second round of the 2010 FIFA World Cup, Waddle criticised the English Football Association, claiming: \"The FA sit on their backsides and do nothing tournament after tournament after tournament. Why don't they listen? Why don't they look at other countries and ask 'how do they keep producing talent?' We coach talent out of players ... We lack so many ideas and it is so frustrating. The amount of money in our league is frightening and all we do is waste it on rubbish ideas ... We kid ourselves thinking we have a chance if we keep the tempo up. We can only play one way and it is poor. You can't go on playing football and hoping to win trophies playing a hundred miles an hour and putting teams under pressure for 90 minutes. You've got to be able to play slow, slow, quick and we can't do it.\"\n",
            "In 2019 Waddle featured in the first season of ITV show Harry's Heroes, which featured former football manager Harry Redknapp attempting get a squad of former England international footballers back fit and healthy for a game against Germany legends.\n",
            "\n",
            "Personal life\n",
            "Waddle has one daughter, Brooke, a son called Jack. On 29 April 2012, Jack was given a one-year first-team contract at Chesterfield.\n",
            "His cousin, Alan Waddle, played league football for Halifax Town, Liverpool, Leicester City, Swansea City, Newport County, Mansfield Town, Hartlepool United and Peterborough United.\n",
            "In 2005, he was arrested following claims he was involved in a brawl in a pub in Dore, Sheffield. No charges were brought due to lack of evidence.\n",
            "\n",
            "In popular culture\n",
            "Waddle was a key part of the pool of popular culture references used in the BBC comedy The Fast Show. References to, and photographs of, Waddle  made regular appearances during the \"Chanel 9\" news segment of the show.\n",
            "\n",
            "Career statistics\n",
            "Club\n",
            "International\n",
            "Honours\n",
            "Marseille\n",
            "\n",
            "Division 1: 1989–90, 1990–91, 1991–92\n",
            "European Cup runner-up: 1990–91\n",
            "Tottenham Hotspur\n",
            "\n",
            "FA Cup runner-up: 1986–87\n",
            "Sheffield Wednesday\n",
            "\n",
            "FA Cup runner-up: 1992–93\n",
            "Football League Cup runner-up: 1992–93\n",
            "Individual\n",
            "\n",
            "PFA Team of the Year: 1984–85 First Division, 1988–89 First Division\n",
            "North-East FWA Player of the Year: 1985\n",
            "Tottenham Hotspur Player of the Year: 1988\n",
            "Onze d'Argent: 1991\n",
            "FIFA XI: 1991\n",
            "FWA Footballer of the Year: 1992–93 (Sheffield Wednesday)\n",
            "Premier League Player of the Month: January 1995\n",
            "The Dream Team 110 years of OM: 2010\n",
            "\n",
            "Bibliography\n",
            "Dickinson, Jason; Brodie, John (2005). The Wednesday Boys: A Definitive Who's Who of Sheffield Wednesday Football Club 1880–2005. Sheffield: Pickard Communication. ISBN 0-9547264-9-9.\n",
            "\n",
            "References\n",
            "External links\n",
            "\n",
            "Chris Waddle photos & stats at Sporting Heroes.net\n",
            "Chris Waddle at Soccerbase\n"
          ]
        }
      ]
    }
  ],
  "metadata": {
    "colab": {
      "provenance": [],
      "toc_visible": true,
      "include_colab_link": true
    },
    "kernelspec": {
      "display_name": "Python 3 (ipykernel)",
      "language": "python",
      "name": "python3"
    },
    "language_info": {
      "codemirror_mode": {
        "name": "ipython",
        "version": 3
      },
      "file_extension": ".py",
      "mimetype": "text/x-python",
      "name": "python",
      "nbconvert_exporter": "python",
      "pygments_lexer": "ipython3",
      "version": "3.10.12"
    },
    "widgets": {
      "application/vnd.jupyter.widget-state+json": {
        "adb88f41fd364f2ab97092b24120ec1a": {
          "model_module": "@jupyter-widgets/controls",
          "model_name": "DropdownModel",
          "model_module_version": "1.5.0",
          "state": {
            "_dom_classes": [],
            "_model_module": "@jupyter-widgets/controls",
            "_model_module_version": "1.5.0",
            "_model_name": "DropdownModel",
            "_options_labels": [
              "Danny Wring",
              "Stanley K. Cheng",
              "Kieran Murphy (rugby union)",
              "Dean Butler (actor)",
              "Kimiko Ikegami",
              "Aleksandrs Dibrivnijs",
              "Sarah Lowndes",
              "Wiebe Bijker",
              "Jean-Pierre Canlis",
              "Kibirige Mayanja",
              "Per Eklund (ice hockey)",
              "Mooli Lahad",
              "Tiziana Tosca Donati",
              "Nick Payne",
              "Jeremy Rosen",
              "Jacqui Cooper",
              "Ray Reyes",
              "Hugh Metcalfe",
              "Joel Kotkin",
              "Michael Sefi"
            ],
            "_view_count": null,
            "_view_module": "@jupyter-widgets/controls",
            "_view_module_version": "1.5.0",
            "_view_name": "DropdownView",
            "description": "Select a name:",
            "description_tooltip": null,
            "disabled": false,
            "index": 9,
            "layout": "IPY_MODEL_b250d73749604701b900d2f949fc7bdd",
            "style": "IPY_MODEL_6d8bd60d337f4d60901dd90d9c977a5e"
          }
        },
        "b250d73749604701b900d2f949fc7bdd": {
          "model_module": "@jupyter-widgets/base",
          "model_name": "LayoutModel",
          "model_module_version": "1.2.0",
          "state": {
            "_model_module": "@jupyter-widgets/base",
            "_model_module_version": "1.2.0",
            "_model_name": "LayoutModel",
            "_view_count": null,
            "_view_module": "@jupyter-widgets/base",
            "_view_module_version": "1.2.0",
            "_view_name": "LayoutView",
            "align_content": null,
            "align_items": null,
            "align_self": null,
            "border": null,
            "bottom": null,
            "display": null,
            "flex": null,
            "flex_flow": null,
            "grid_area": null,
            "grid_auto_columns": null,
            "grid_auto_flow": null,
            "grid_auto_rows": null,
            "grid_column": null,
            "grid_gap": null,
            "grid_row": null,
            "grid_template_areas": null,
            "grid_template_columns": null,
            "grid_template_rows": null,
            "height": null,
            "justify_content": null,
            "justify_items": null,
            "left": null,
            "margin": null,
            "max_height": null,
            "max_width": null,
            "min_height": null,
            "min_width": null,
            "object_fit": null,
            "object_position": null,
            "order": null,
            "overflow": null,
            "overflow_x": null,
            "overflow_y": null,
            "padding": null,
            "right": null,
            "top": null,
            "visibility": null,
            "width": null
          }
        },
        "6d8bd60d337f4d60901dd90d9c977a5e": {
          "model_module": "@jupyter-widgets/controls",
          "model_name": "DescriptionStyleModel",
          "model_module_version": "1.5.0",
          "state": {
            "_model_module": "@jupyter-widgets/controls",
            "_model_module_version": "1.5.0",
            "_model_name": "DescriptionStyleModel",
            "_view_count": null,
            "_view_module": "@jupyter-widgets/base",
            "_view_module_version": "1.2.0",
            "_view_name": "StyleView",
            "description_width": ""
          }
        }
      }
    }
  },
  "nbformat": 4,
  "nbformat_minor": 0
}