{
  "nbformat": 4,
  "nbformat_minor": 0,
  "metadata": {
    "colab": {
      "provenance": [],
      "include_colab_link": true
    },
    "kernelspec": {
      "name": "python3",
      "display_name": "Python 3"
    },
    "language_info": {
      "name": "python"
    }
  },
  "cells": [
    {
      "cell_type": "markdown",
      "metadata": {
        "id": "view-in-github",
        "colab_type": "text"
      },
      "source": [
        "<a href=\"https://colab.research.google.com/github/bdugick89/Data-Science-Bootcamp/blob/main/SQL_1_Chinook_project_template.ipynb\" target=\"_parent\"><img src=\"https://colab.research.google.com/assets/colab-badge.svg\" alt=\"Open In Colab\"/></a>"
      ]
    },
    {
      "cell_type": "markdown",
      "source": [
        "# Project SQL - Chinook\n"
      ],
      "metadata": {
        "id": "cJG_e1vK2NMI"
      }
    },
    {
      "cell_type": "markdown",
      "source": [
        "## Chinook data set\n",
        "\n",
        "See the lecture on SQLite3 using the Chinook data set to set up the software, database, and tables, as well as for the links to ancillary information about the data set.\n"
      ],
      "metadata": {
        "id": "s6jMcIbW3P5o"
      }
    },
    {
      "cell_type": "markdown",
      "source": [
        "## Come up with questions about your data\n",
        "Have a look at the Entity-Relation ( ER ) diagram to help come up with questions.\n",
        "\n",
        "* What sort of information is in this dataset?\n",
        "* How many records are there?\n",
        "* How many different countries (states, counties, cities, etc) have records in this data set?\n",
        "\n",
        "\n",
        "If you are stuck, here are some ideas for questions:\n",
        "- https://github.com/LucasMcL/15-sql_queries_02-chinook/blob/master/README.md\n",
        "- [Using the R language]( https://rpubs.com/enext777/636199 )\n",
        "- [Search Google]( https://www.google.com/search?q=chinook+database+questions )\n",
        "\n"
      ],
      "metadata": {
        "id": "OA9Mp38s52x2"
      }
    },
    {
      "cell_type": "code",
      "source": [
        "%%capture\n",
        "%%bash\n",
        "apt-get update\n",
        "apt-get install -y sqlite3\n",
        "\n"
      ],
      "metadata": {
        "id": "LYR3yVkI6KJM"
      },
      "execution_count": null,
      "outputs": []
    },
    {
      "cell_type": "code",
      "source": [
        "%%bash\n",
        "\n",
        "[ -f chinook.zip ] ||\n",
        "  curl -s -O https://www.sqlitetutorial.net/wp-content/uploads/2018/03/chinook.zip\n",
        "unzip -l chinook.zip\n",
        "\n"
      ],
      "metadata": {
        "colab": {
          "base_uri": "https://localhost:8080/"
        },
        "id": "Qf7PuZAU6qZd",
        "outputId": "8da1092a-8061-4f11-ad8b-3c0104b9a024"
      },
      "execution_count": null,
      "outputs": [
        {
          "output_type": "stream",
          "name": "stdout",
          "text": [
            "Archive:  chinook.zip\n",
            "  Length      Date    Time    Name\n",
            "---------  ---------- -----   ----\n",
            "   884736  2015-11-29 10:53   chinook.db\n",
            "---------                     -------\n",
            "   884736                     1 file\n"
          ]
        }
      ]
    },
    {
      "cell_type": "code",
      "source": [
        "!unzip -u chinook.zip\n"
      ],
      "metadata": {
        "colab": {
          "base_uri": "https://localhost:8080/"
        },
        "id": "nQXPOCIT6ub-",
        "outputId": "2a91919f-95c1-4546-e40b-de2e992bddbc"
      },
      "execution_count": null,
      "outputs": [
        {
          "output_type": "stream",
          "name": "stdout",
          "text": [
            "Archive:  chinook.zip\n",
            "  inflating: chinook.db              \n"
          ]
        }
      ]
    },
    {
      "cell_type": "code",
      "source": [
        "/*Sales By State */\n",
        "\n",
        "WITH USA_STATE AS (\n",
        "    SELECT\n",
        "        SUM(i.total) AS total_sales,\n",
        "        i.BillingState AS State,\n",
        "\t\t'USA' AS Origin\n",
        "    FROM invoices i\n",
        "    WHERE i.BillingCountry = \"USA\"\n",
        "    GROUP BY i.BillingState\n",
        "),\n",
        "GLOBAL AS (\n",
        "    SELECT\n",
        "        SUM(i.total) AS total_sales,\n",
        "        i.BillingCountry AS country,\n",
        "\t\t'Global' AS Origin\n",
        "    FROM invoices i\n",
        "    WHERE i.BillingCountry <> \"USA\"\n",
        "    GROUP BY i.BillingCountry\n",
        ")\n",
        "SELECT * FROM USA_STATE\n",
        "UNION\n",
        "SELECT * FROM GLOBAL\n",
        "ORDER BY Origin DESC;\n",
        "\n",
        "\n",
        "/*Invoices with Threasholds */\n",
        "\n",
        "WITH InvoiceTotal AS (\n",
        "    SELECT\n",
        "        COUNT(ii.quantity) AS purchase_count,\n",
        "        i.InvoiceId,\n",
        "        i.total as purchase_total,\n",
        "        i.CustomerId\n",
        "    FROM invoice_items ii\n",
        "    JOIN invoices i ON ii.InvoiceId = i.InvoiceId\n",
        "    WHERE i.total BETWEEN 15 AND 25\n",
        "    GROUP BY i.InvoiceId, i.CustomerId\n",
        ")\n",
        ", TotalStats AS (\n",
        "    SELECT\n",
        "        MAX(purchase_total) AS Max_Sale_metric,\n",
        "        MIN(purchase_total) AS Min_Sale_metric\n",
        "    FROM InvoiceTotal\n",
        ")\n",
        "SELECT\n",
        "    it.InvoiceId,\n",
        "    it.purchase_total,\n",
        "    c.city,\n",
        "    c.state,\n",
        "\t AVG(it.purchase_total) OVER() AS Average_Sale_Per_Invoice_metric,\n",
        "\t ts.Max_Sale_metric ,\n",
        "    ts.Min_Sale_metric\n",
        "FROM InvoiceTotal it\n",
        "CROSS JOIN TotalStats ts\n",
        "LEFT JOIN customers c ON c.CustomerId = it.CustomerId\n",
        "WHERE c.state IS NOT NULL\n",
        "ORDER BY it.purchase_total ASC;\n",
        "\n",
        "/*Artst and Album List */\n",
        "SELECT\n",
        "    CASE\n",
        "        WHEN ROW_NUMBER() OVER (PARTITION BY al.AlbumId ORDER BY ar.name, t.TrackId) = 1 THEN al.Title\n",
        "        ELSE ''\n",
        "    END AS Album_Title,\n",
        "    CASE\n",
        "        WHEN ROW_NUMBER() OVER (PARTITION BY al.AlbumId ORDER BY ar.name, t.TrackId) = 1 THEN ar.name\n",
        "        ELSE ''\n",
        "    END AS Artist_Name,\n",
        "    t.name AS Track_Name,\n",
        "    g.name AS Genre,\n",
        "    t.TrackId\n",
        "FROM ARTISTS ar\n",
        "LEFT JOIN ALBUMS al\n",
        "    ON ar.ArtistId = al.ArtistId\n",
        "LEFT JOIN TRACKS t\n",
        "    ON al.AlbumId = t.AlbumId\n",
        "LEFT JOIN Genres g\n",
        "    ON t.GenreId = g.GenreId\n",
        "ORDER BY ar.name, al.Title, t.TrackId;\n",
        "\n",
        "/*Current and Future Sales*/\n",
        "\n",
        "\tWITH SalesData AS (\n",
        "    SELECT\n",
        "        SUM(ii.quantity) AS invoice_items_quantity,\n",
        "        SUM(UnitPrice) AS invoice_items_unit_price,\n",
        "        strftime('%Y', i.InvoiceDate) AS year,\n",
        "        (strftime('%m', i.InvoiceDate) + 2) / 3 AS quarter\n",
        "    FROM\n",
        "        invoice_items ii\n",
        "    JOIN\n",
        "        invoices i ON ii.InvoiceId = i.InvoiceId\n",
        "    GROUP BY\n",
        "        strftime('%Y', i.InvoiceDate),\n",
        "        (strftime('%m', i.InvoiceDate) + 2) / 3\n",
        "),\n",
        "NextYearQuarters AS (\n",
        "    SELECT\n",
        "        strftime('%Y', date('now', '+1 year')) AS year,\n",
        "        1 AS quarter\n",
        "    UNION ALL\n",
        "    SELECT\n",
        "        strftime('%Y', date('now', '+1 year')) AS year,\n",
        "        2 AS quarter\n",
        "    UNION ALL\n",
        "    SELECT\n",
        "        strftime('%Y', date('now', '+1 year')) AS year,\n",
        "        3 AS quarter\n",
        "    UNION ALL\n",
        "    SELECT\n",
        "        strftime('%Y', date('now', '+1 year')) AS year,\n",
        "        4 AS quarter\n",
        ")\n",
        "SELECT\n",
        "    invoice_items_quantity,\n",
        "    invoice_items_unit_price,\n",
        "    year,\n",
        "    quarter\n",
        "FROM\n",
        "    SalesData\n",
        "UNION ALL\n",
        "SELECT\n",
        "    0 AS invoice_items_quantity,\n",
        "    0 AS invoice_items_unit_price,\n",
        "    year,\n",
        "    quarter\n",
        "FROM\n",
        "    NextYearQuarters\n",
        "\n",
        "ORDER BY\n",
        "    year DESC,\n",
        "    quarter DESC;\n"
      ],
      "metadata": {
        "id": "EyTTdlcz_3Hm"
      },
      "execution_count": null,
      "outputs": []
    }
  ]
}